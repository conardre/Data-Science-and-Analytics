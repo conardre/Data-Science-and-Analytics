{
 "cells": [
  {
   "cell_type": "markdown",
   "metadata": {},
   "source": [
    "# Creating and Loading Survey Data"
   ]
  },
  {
   "cell_type": "markdown",
   "metadata": {},
   "source": [
    "## 1. Review File\n",
    "\n",
    " [survey.db.sql](./survey.db.sql)\n",
    " \n",
    " #### Edit file to add your pawprint in front to configure the schema.\n",
    " 1. Use the folder view of Jupyter to navigate to module2/exercises\n",
    " 2. Click to open the file.\n",
    " 3. Use the file menu to save the file."
   ]
  },
  {
   "cell_type": "markdown",
   "metadata": {},
   "source": [
    "\n",
    "## 2. Use terminal to access your personal schema in `dsa_students` to run the file\n",
    "\n",
    "#### Hints:\n",
    "1. Use the *change directory*, `cd`, command to navigate to this folder in Jupyter Terminal\n",
    "2. Connect to the database\n",
    "3. \"Run the SQL file\""
   ]
  },
  {
   "cell_type": "markdown",
   "metadata": {},
   "source": [
    "## 3. Copy in the terminal output / results from running the file"
   ]
  },
  {
   "cell_type": "raw",
   "metadata": {},
   "source": [
    "#################################################\n",
    "## Paste output from Task #3 Below this comment ## \n",
    "#################################################\n",
    "\n",
    "rc25g@jupyter-rc25g:~/jupyter/f20dsa7030_rc25g/modules/module2/exercises$ psql -h pgsql.dsa.lan -d dsa_student\n",
    "Password for user rc25g:\n",
    "psql (11.3, server 10.5)\n",
    "Type \"help\" for help.\n",
    "\n",
    "dsa_student=> \\! pwd\n",
    "/home/rc25g/jupyter/f20dsa7030_rc25g/modules/module2/exercises\n",
    "dsa_student=> \\i survey.db.sql\n",
    "\n",
    "dsa_student=> \\dt\n",
    "              List of relations\n",
    " Schema |      Name       | Type  |  Owner\n",
    "--------+-----------------+-------+----------\n",
    " public | nyc_roads       | table | scottgs\n",
    " public | spatial_ref_sys | table | postgres\n",
    " rc25g  | album           | table | rc25g\n",
    " rc25g  | artist          | table | rc25g\n",
    " rc25g  | genre           | table | rc25g\n",
    " rc25g  | person          | table | rc25g\n",
    " rc25g  | site            | table | rc25g\n",
    " rc25g  | song            | table | rc25g\n",
    " rc25g  | survey          | table | rc25g\n",
    " rc25g  | visited         | table | rc25g\n",
    " rc25g  | whoami          | table | rc25g\n",
    "(11 rows)"
   ]
  },
  {
   "cell_type": "markdown",
   "metadata": {},
   "source": [
    "## 4. Describe the tables using PostgreSQL commands and paste the output below."
   ]
  },
  {
   "cell_type": "raw",
   "metadata": {},
   "source": [
    "#################################################\n",
    "## Paste output from Task #4 Below this comment ## \n",
    "#################################################\n",
    "\n",
    "\n",
    "dsa_student-> \\d survey\n",
    "                Table \"rc25g.survey\"\n",
    " Column  |  Type   | Collation | Nullable | Default\n",
    "---------+---------+-----------+----------+---------\n",
    " taken   | integer |           |          |\n",
    " person  | text    |           |          |\n",
    " quant   | text    |           |          |\n",
    " reading | real    |           |          |\n",
    " \n",
    " \n",
    "dsa_student-> \\d visited\n",
    "             Table \"rc25g.visited\"\n",
    " Column | Type | Collation | Nullable | Default\n",
    "--------+------+-----------+----------+---------\n",
    " id     | text |           |          |\n",
    " site   | text |           |          |\n",
    " dated  | text |           |          |\n",
    " \n",
    " \n",
    " dsa_student=> \\d person\n",
    "               Table \"rc25g.person\"\n",
    "  Column  | Type | Collation | Nullable | Default\n",
    "----------+------+-----------+----------+---------\n",
    " id       | text |           |          |\n",
    " personal | text |           |          |\n",
    " family   | text |           |          |"
   ]
  },
  {
   "cell_type": "markdown",
   "metadata": {},
   "source": [
    "# 5. Write / Copy one of the queries from the prior module related to this data, adapted to this database and the schema-specified table names.\n",
    "\n",
    "### Paste the Query and the Reset in the two cells below."
   ]
  },
  {
   "cell_type": "raw",
   "metadata": {},
   "source": [
    "#################################################\n",
    "## Paste Query for Task #5 Below this comment  ## \n",
    "#################################################\n",
    "\n",
    "%%sql SELECT * FROM survey WHERE (quant = 'rad' OR quant = 'temp')\n"
   ]
  },
  {
   "cell_type": "raw",
   "metadata": {},
   "source": [
    "#################################################\n",
    "## Paste Result for Task #5 Below this comment ## \n",
    "#################################################\n",
    " \n",
    " \n",
    " taken | person | quant | reading\n",
    "-------+--------+-------+---------\n",
    "   619 | dyer   | rad   |    9.82\n",
    "   622 | dyer   | rad   |     7.8\n",
    "   734 | pb     | rad   |    8.41\n",
    "   734 | pb     | temp  |   -21.5\n",
    "   735 | pb     | rad   |    7.22\n",
    "   735 |        | temp  |     -26\n",
    "   751 | pb     | rad   |    4.35\n",
    "   751 | pb     | temp  |   -18.5\n",
    "   752 | lake   | rad   |    2.19\n",
    "   752 | lake   | temp  |     -16\n",
    "   837 | lake   | rad   |    1.46\n",
    "   844 | roe    | rad   |   11.25\n",
    "(12 rows)"
   ]
  },
  {
   "cell_type": "markdown",
   "metadata": {},
   "source": [
    "----\n",
    "# Save your notebook, then `File > Close and Halt`"
   ]
  }
 ],
 "metadata": {
  "kernelspec": {
   "display_name": "Python 3",
   "language": "python",
   "name": "python3"
  },
  "language_info": {
   "codemirror_mode": {
    "name": "ipython",
    "version": 3
   },
   "file_extension": ".py",
   "mimetype": "text/x-python",
   "name": "python",
   "nbconvert_exporter": "python",
   "pygments_lexer": "ipython3",
   "version": "3.7.3"
  }
 },
 "nbformat": 4,
 "nbformat_minor": 2
}
