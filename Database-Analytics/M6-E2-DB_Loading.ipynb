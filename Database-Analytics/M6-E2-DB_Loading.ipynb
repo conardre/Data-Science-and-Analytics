{
 "cells": [
  {
   "cell_type": "markdown",
   "metadata": {},
   "source": [
    "# Database Design and Load Exercise\n",
    "\n",
    "### Steps\n",
    " 1. Analyze - Completed last module\n",
    " 2. Design - Completed last module. \n",
    " 3. Data Carpentry\n",
    " 4. Data Loading\n",
    " 5. Analytical Queries"
   ]
  },
  {
   "cell_type": "markdown",
   "metadata": {},
   "source": [
    "# Smart Stores ERD\n",
    "\n",
    "In Module 2 module everyone developed an ERD diagram for a smart store based on the entities and attributes below.\n",
    "\n"
   ]
  },
  {
   "cell_type": "markdown",
   "metadata": {},
   "source": [
    "### orders :\n",
    "* `order_id`: order identifier\n",
    "* `user_id`: customer identifier\n",
    "* `eval_set`: which evaluation set this order belongs in (see `SET` described below)\n",
    "* `order_number`: the order sequence number for this user (1 = first, n = nth)\n",
    "* `order_dow`: the day of the week the order was placed on\n",
    "* `order_hour_of_day`: the hour of the day the order was placed on\n",
    "* `days_since_prior`: days since the last order, capped at 30 (with NAs for `order_number` = 1)\n",
    "\n",
    "### products :\n",
    "* `product_id`: product identifier\n",
    "* `product_name`: name of the product\n",
    "* `aisle_id`: foreign key\n",
    "* `department_id`: foreign key\n",
    "\n",
    "### aisles :\n",
    "* `aisle_id`: aisle identifier\n",
    "* `aisle`: the name of the aisle\n",
    "\n",
    "### deptartments :\n",
    "* `department_id`: department identifier\n",
    "* `department`: the name of the department\n",
    "\n",
    "### order_products :\n",
    "* `order_id`: foreign key\n",
    "* `product_id`: foreign key\n",
    "* `add_to_cart_order`: order in which each product was added to cart\n",
    "* `reordered`: 1 if this product has been ordered by this user in the past, 0 otherwise\n",
    "\n",
    "#### where SET is one of the four following evaluation sets (eval_set in orders):\n",
    "\n",
    "* \"prior\": orders prior to that users most recent order (~3.2m orders)\n",
    "* \"train\": training data supplied to participants (~131k orders)\n",
    "* \"test\": test data reserved for machine learning competitions (~75k orders)"
   ]
  },
  {
   "cell_type": "markdown",
   "metadata": {
    "collapsed": true
   },
   "source": [
    "# ERD Diagram\n",
    "\n",
    "For this assignment this is the ERD diagram everyone should use based on the requirements above. It is ok if you had something a little bit different in last week's exercise as long as you captured all of the requirements and relationships."
   ]
  },
  {
   "cell_type": "markdown",
   "metadata": {
    "collapsed": true
   },
   "source": [
    "![erd](../images/smart_store.png)"
   ]
  },
  {
   "cell_type": "markdown",
   "metadata": {},
   "source": [
    "\n",
    "### 1. Create the tables in the database using SQLAlchemy\n",
    "\n",
    "Convert the Entities and attributes into a Database schema for Postgres. **Remember to specify your Primary Keys and Foreign Keys for each table!** "
   ]
  },
  {
   "cell_type": "code",
   "execution_count": 42,
   "metadata": {},
   "outputs": [
    {
     "name": "stdout",
     "output_type": "stream",
     "text": [
      "········\n"
     ]
    }
   ],
   "source": [
    "import getpass\n",
    "mypasswd = getpass.getpass()\n",
    "username = 'rc25g'\n",
    "host = 'pgsql.dsa.lan'\n",
    "database = 'dsa_student'"
   ]
  },
  {
   "cell_type": "code",
   "execution_count": 43,
   "metadata": {},
   "outputs": [],
   "source": [
    "from sqlalchemy.engine.url import URL\n",
    "from sqlalchemy import create_engine\n",
    "\n",
    "# SQLAlchemy Connection Parameters\n",
    "postgres_db = {'drivername': 'postgres',\n",
    "               'username': username,\n",
    "               'password': mypasswd,\n",
    "               'host': host,\n",
    "               'database' :database}\n",
    "engine = create_engine(URL(**postgres_db), echo=False)\n",
    "del mypasswd"
   ]
  },
  {
   "cell_type": "code",
   "execution_count": 78,
   "metadata": {},
   "outputs": [
    {
     "name": "stdout",
     "output_type": "stream",
     "text": [
      "2020-12-06 14:31:13,545 INFO sqlalchemy.engine.base.Engine \n",
      "DROP TABLE IF EXISTS orders;\n",
      "CREATE TABLE orders (\n",
      "    order_id               INT NOT NULL, \n",
      "    user_id                INT NOT NULL, \n",
      "    eval_set               varchar(100), \n",
      "    order_number           INT NOT NULL,\n",
      "    order_dow              INT NOT NULL,\n",
      "    order_hour_of_day      INT NOT NULL,\n",
      "    days_since_prior       INT NOT NULL,\n",
      "     PRIMARY KEY (order_id)\n",
      ")\n",
      "\n",
      "2020-12-06 14:31:13,547 INFO sqlalchemy.engine.base.Engine {}\n",
      "2020-12-06 14:31:13,558 INFO sqlalchemy.engine.base.Engine COMMIT\n",
      "<sqlalchemy.engine.result.ResultProxy object at 0x7f8edc88dac8>\n"
     ]
    }
   ],
   "source": [
    "query = \"\"\"\n",
    "DROP TABLE IF EXISTS orders;\n",
    "CREATE TABLE orders (\n",
    "    order_id               INT NOT NULL, \n",
    "    user_id                INT NOT NULL, \n",
    "    eval_set               varchar(100), \n",
    "    order_number           INT NOT NULL,\n",
    "    order_dow              INT NOT NULL,\n",
    "    order_hour_of_day      INT NOT NULL,\n",
    "    days_since_prior       INT NOT NULL,\n",
    "     PRIMARY KEY (order_id)\n",
    ")\n",
    "\"\"\"\n",
    "\n",
    "with engine.connect() as connection:\n",
    "    res = connection.execute(query)\n",
    "    print(res)"
   ]
  },
  {
   "cell_type": "code",
   "execution_count": 80,
   "metadata": {},
   "outputs": [
    {
     "name": "stdout",
     "output_type": "stream",
     "text": [
      "2020-12-06 14:31:32,836 INFO sqlalchemy.engine.base.Engine \n",
      "DROP TABLE IF EXISTS order_products;\n",
      "CREATE TABLE order_products (\n",
      "    order_id                 INT NOT NULL,\n",
      "    product_id               INT NOT NULL, \n",
      "    add_to_cart_order        INT NOT NULL, \n",
      "    reordered                INT NOT NULL, \n",
      "    CONSTRAINT FK_1 FOREIGN KEY (order_id)\n",
      "         REFERENCES orders(order_id), \n",
      "    CONSTRAINT FK_2 FOREIGN KEY (product_id)\n",
      "         REFERENCES products(product_id), \n",
      "     PRIMARY KEY (order_id, product_id)\n",
      ")\n",
      "\n",
      "2020-12-06 14:31:32,837 INFO sqlalchemy.engine.base.Engine {}\n",
      "2020-12-06 14:31:32,848 INFO sqlalchemy.engine.base.Engine COMMIT\n",
      "<sqlalchemy.engine.result.ResultProxy object at 0x7f8ef4bc6c50>\n"
     ]
    }
   ],
   "source": [
    "query = \"\"\"\n",
    "DROP TABLE IF EXISTS order_products;\n",
    "CREATE TABLE order_products (\n",
    "    order_id                 INT NOT NULL,\n",
    "    product_id               INT NOT NULL, \n",
    "    add_to_cart_order        INT NOT NULL, \n",
    "    reordered                INT NOT NULL, \n",
    "    CONSTRAINT FK_1 FOREIGN KEY (order_id)\n",
    "         REFERENCES orders(order_id), \n",
    "    CONSTRAINT FK_2 FOREIGN KEY (product_id)\n",
    "         REFERENCES products(product_id), \n",
    "     PRIMARY KEY (order_id, product_id)\n",
    ")\n",
    "\"\"\"\n",
    "\n",
    "with engine.connect() as connection:\n",
    "    res = connection.execute(query)\n",
    "    print(res)"
   ]
  },
  {
   "cell_type": "code",
   "execution_count": 73,
   "metadata": {},
   "outputs": [
    {
     "name": "stdout",
     "output_type": "stream",
     "text": [
      "2020-12-06 14:24:22,621 INFO sqlalchemy.engine.base.Engine \n",
      "DROP TABLE IF EXISTS products;\n",
      "CREATE TABLE products (\n",
      "    product_id               INT NOT NULL, \n",
      "    department_id            INT NOT NULL, \n",
      "    aisle_id                 INT NOT NULL, \n",
      "    product_name             varchar(100),\n",
      "    CONSTRAINT FK_1 FOREIGN KEY (department_id)\n",
      "         REFERENCES departments(department_id), \n",
      "    CONSTRAINT FK_2 FOREIGN KEY (aisle_id)\n",
      "         REFERENCES aisles(aisle_id), \n",
      "     PRIMARY KEY (product_id)\n",
      ")\n",
      "\n",
      "2020-12-06 14:24:22,623 INFO sqlalchemy.engine.base.Engine {}\n",
      "2020-12-06 14:24:22,632 INFO sqlalchemy.engine.base.Engine COMMIT\n",
      "<sqlalchemy.engine.result.ResultProxy object at 0x7f8f445acac8>\n"
     ]
    }
   ],
   "source": [
    "query = \"\"\"\n",
    "DROP TABLE IF EXISTS products;\n",
    "CREATE TABLE products (\n",
    "    product_id               INT NOT NULL, \n",
    "    department_id            INT NOT NULL, \n",
    "    aisle_id                 INT NOT NULL, \n",
    "    product_name             varchar(100),\n",
    "    CONSTRAINT FK_1 FOREIGN KEY (department_id)\n",
    "         REFERENCES departments(department_id), \n",
    "    CONSTRAINT FK_2 FOREIGN KEY (aisle_id)\n",
    "         REFERENCES aisles(aisle_id), \n",
    "     PRIMARY KEY (product_id)\n",
    ")\n",
    "\"\"\"\n",
    "\n",
    "with engine.connect() as connection:\n",
    "    res = connection.execute(query)\n",
    "    print(res)"
   ]
  },
  {
   "cell_type": "code",
   "execution_count": 70,
   "metadata": {},
   "outputs": [
    {
     "name": "stdout",
     "output_type": "stream",
     "text": [
      "2020-12-06 14:24:07,432 INFO sqlalchemy.engine.base.Engine \n",
      "DROP TABLE IF EXISTS aisles;\n",
      "CREATE TABLE aisles (\n",
      "    aisle_id               INT NOT NULL,\n",
      "    aisle                  varchar(100), \n",
      "     PRIMARY KEY (aisle_id)\n",
      ")\n",
      "\n",
      "2020-12-06 14:24:07,433 INFO sqlalchemy.engine.base.Engine {}\n",
      "2020-12-06 14:24:07,486 INFO sqlalchemy.engine.base.Engine COMMIT\n",
      "<sqlalchemy.engine.result.ResultProxy object at 0x7f8edc88da20>\n"
     ]
    }
   ],
   "source": [
    "query = \"\"\"\n",
    "DROP TABLE IF EXISTS aisles;\n",
    "CREATE TABLE aisles (\n",
    "    aisle_id               INT NOT NULL,\n",
    "    aisle                  varchar(100), \n",
    "     PRIMARY KEY (aisle_id)\n",
    ")\n",
    "\"\"\"\n",
    "\n",
    "with engine.connect() as connection:\n",
    "    res = connection.execute(query)\n",
    "    print(res)"
   ]
  },
  {
   "cell_type": "code",
   "execution_count": 59,
   "metadata": {},
   "outputs": [
    {
     "name": "stdout",
     "output_type": "stream",
     "text": [
      "2020-12-06 14:17:22,751 INFO sqlalchemy.engine.base.Engine \n",
      "DROP TABLE IF EXISTS departments;\n",
      "CREATE TABLE departments (\n",
      "    department_id               INT NOT NULL,\n",
      "    department                  varchar(100), \n",
      "     PRIMARY KEY (department_id)\n",
      ")\n",
      "\n",
      "2020-12-06 14:17:22,752 INFO sqlalchemy.engine.base.Engine {}\n",
      "2020-12-06 14:17:22,761 INFO sqlalchemy.engine.base.Engine COMMIT\n",
      "<sqlalchemy.engine.result.ResultProxy object at 0x7f8edc874f60>\n"
     ]
    }
   ],
   "source": [
    "query = \"\"\"\n",
    "DROP TABLE IF EXISTS departments;\n",
    "CREATE TABLE departments (\n",
    "    department_id               INT NOT NULL,\n",
    "    department                  varchar(100), \n",
    "     PRIMARY KEY (department_id)\n",
    ")\n",
    "\"\"\"\n",
    "\n",
    "with engine.connect() as connection:\n",
    "    res = connection.execute(query)\n",
    "    print(res)"
   ]
  },
  {
   "cell_type": "code",
   "execution_count": 37,
   "metadata": {},
   "outputs": [],
   "source": [
    "import pandas as pd"
   ]
  },
  {
   "cell_type": "markdown",
   "metadata": {},
   "source": [
    "### 2. Load data from the following files using SQLAlchemy:\n",
    "\n",
    "#### `/dsa/data/all_datasets/instacart/orders.csv`\n",
    " * 3421084 Rows\n",
    " * File Preview \n",
    "```\n",
    "order_id,user_id,eval_set,order_number,order_dow,order_hour_of_day,days_since_prior_order\n",
    "2539329,1,prior,1,2,08,\n",
    "2398795,1,prior,2,3,07,15.0\n",
    "473747,1,prior,3,3,12,21.0\n",
    "2254736,1,prior,4,4,07,29.0\n",
    "```\n",
    "\n",
    "#### `/dsa/data/all_datasets/instacart/products.csv`\n",
    " * 49689 Rows\n",
    " * File Preview \n",
    "```\n",
    "product_id,product_name,aisle_id,department_id\n",
    "1,Chocolate Sandwich Cookies,61,19\n",
    "2,All-Seasons Salt,104,13\n",
    "3,Robust Golden Unsweetened Oolong Tea,94,7\n",
    "4,Smart Ones Classic Favorites Mini Rigatoni With Vodka Cream Sauce,38,1\n",
    "```\n",
    "\n",
    "#### `/dsa/data/all_datasets/instacart/aisles.csv`\n",
    " * 135 Rows\n",
    " * File Preview \n",
    "```\n",
    "aisle_id,aisle\n",
    "1,prepared soups salads\n",
    "2,specialty cheeses\n",
    "3,energy granola bars\n",
    "4,instant foods\n",
    "```\n",
    "\n",
    "#### `/dsa/data/all_datasets/instacart/departments.csv`\n",
    " * 22 Rows\n",
    " * File Preview \n",
    "```\n",
    "department_id,department\n",
    "1,frozen\n",
    "2,other\n",
    "3,bakery\n",
    "4,produce\n",
    "```\n",
    "\n",
    "#### `/dsa/data/all_datasets/instacart/order_products.csv`\n",
    " * 1384618 Rows\n",
    " * File Preview \n",
    "```\n",
    "order_id,product_id,add_to_cart_order,reordered\n",
    "1,49302,1,1\n",
    "1,11109,2,1\n",
    "1,10246,3,0\n",
    "1,49683,4,0\n",
    "```\n",
    "     "
   ]
  },
  {
   "cell_type": "markdown",
   "metadata": {},
   "source": [
    "## In each designated cell, load the data using Python\n",
    "\n"
   ]
  },
  {
   "cell_type": "markdown",
   "metadata": {},
   "source": [
    "### 2.1 - Orders "
   ]
  },
  {
   "cell_type": "code",
   "execution_count": 38,
   "metadata": {},
   "outputs": [],
   "source": [
    "orders = pd.read_csv('/dsa/data/all_datasets/instacart/orders.csv')\n",
    "\n",
    "orders['days_since_prior_order'] = orders['days_since_prior_order'].fillna(0)"
   ]
  },
  {
   "cell_type": "code",
   "execution_count": null,
   "metadata": {
    "scrolled": true
   },
   "outputs": [],
   "source": [
    "orders.to_sql('orders',\n",
    "          engine,\n",
    "          schema= username,\n",
    "          if_exists='append'\n",
    "          index=False,\n",
    "          chunksize=50)"
   ]
  },
  {
   "cell_type": "markdown",
   "metadata": {},
   "source": [
    "### 2.2 - Products\n",
    "\n",
    "\n",
    "\n",
    "\n",
    "\n"
   ]
  },
  {
   "cell_type": "code",
   "execution_count": 74,
   "metadata": {},
   "outputs": [],
   "source": [
    "products = pd.read_csv('/dsa/data/all_datasets/instacart/products.csv')\n"
   ]
  },
  {
   "cell_type": "code",
   "execution_count": 77,
   "metadata": {},
   "outputs": [
    {
     "name": "stdout",
     "output_type": "stream",
     "text": [
      "2020-12-06 14:24:52,024 INFO sqlalchemy.engine.base.Engine select relname from pg_class c join pg_namespace n on n.oid=c.relnamespace where n.nspname=%(schema)s and relname=%(name)s\n",
      "2020-12-06 14:24:52,025 INFO sqlalchemy.engine.base.Engine {'schema': 'rc25g', 'name': 'products'}\n",
      "2020-12-06 14:24:52,031 INFO sqlalchemy.engine.base.Engine BEGIN (implicit)\n",
      "2020-12-06 14:24:52,033 INFO sqlalchemy.engine.base.Engine INSERT INTO rc25g.products (product_id, product_name, aisle_id, department_id) VALUES (%(product_id)s, %(product_name)s, %(aisle_id)s, %(department_id)s)\n",
      "2020-12-06 14:24:52,034 INFO sqlalchemy.engine.base.Engine ({'product_id': 1, 'product_name': 'Chocolate Sandwich Cookies', 'aisle_id': 61, 'department_id': 19}, {'product_id': 2, 'product_name': 'All-Seasons Salt', 'aisle_id': 104, 'department_id': 13}, {'product_id': 3, 'product_name': 'Robust Golden Unsweetened Oolong Tea', 'aisle_id': 94, 'department_id': 7}, {'product_id': 4, 'product_name': 'Smart Ones Classic Favorites Mini Rigatoni With Vodka Cream Sauce', 'aisle_id': 38, 'department_id': 1}, {'product_id': 5, 'product_name': 'Green Chile Anytime Sauce', 'aisle_id': 5, 'department_id': 13}, {'product_id': 6, 'product_name': 'Dry Nose Oil', 'aisle_id': 11, 'department_id': 11}, {'product_id': 7, 'product_name': 'Pure Coconut Water With Orange', 'aisle_id': 98, 'department_id': 7}, {'product_id': 8, 'product_name': \"Cut Russet Potatoes Steam N' Mash\", 'aisle_id': 116, 'department_id': 1}  ... displaying 10 of 50 total bound parameter sets ...  {'product_id': 49, 'product_name': 'Vegetarian Grain Meat Sausages Italian - 4 CT', 'aisle_id': 14, 'department_id': 20}, {'product_id': 50, 'product_name': 'Pumpkin Muffin Mix', 'aisle_id': 105, 'department_id': 13})\n",
      "2020-12-06 14:24:52,053 INFO sqlalchemy.engine.base.Engine INSERT INTO rc25g.products (product_id, product_name, aisle_id, department_id) VALUES (%(product_id)s, %(product_name)s, %(aisle_id)s, %(department_id)s)\n",
      "2020-12-06 14:24:52,054 INFO sqlalchemy.engine.base.Engine ({'product_id': 51, 'product_name': 'Sa Extra Hold Mousse Hair Styling', 'aisle_id': 22, 'department_id': 11}, {'product_id': 52, 'product_name': 'Mirabelle Brut Rose', 'aisle_id': 134, 'department_id': 5}, {'product_id': 53, 'product_name': 'Whole Leaf Pure Aloe With Lemon Juice', 'aisle_id': 98, 'department_id': 7}, {'product_id': 54, 'product_name': '24/7 Performance Cat Litter', 'aisle_id': 41, 'department_id': 8}, {'product_id': 55, 'product_name': 'Lasting Color Shampoo', 'aisle_id': 22, 'department_id': 11}, {'product_id': 56, 'product_name': 'Healthy Pop Butter Popcorn', 'aisle_id': 23, 'department_id': 19}, {'product_id': 57, 'product_name': 'Flat Toothpicks', 'aisle_id': 111, 'department_id': 17}, {'product_id': 58, 'product_name': 'Whole Wheat Tortillas', 'aisle_id': 128, 'department_id': 3}  ... displaying 10 of 50 total bound parameter sets ...  {'product_id': 99, 'product_name': 'Local Living Butter Lettuce', 'aisle_id': 83, 'department_id': 4}, {'product_id': 100, 'product_name': 'Peanut Butter & Strawberry Jam Sandwich', 'aisle_id': 38, 'department_id': 1})\n",
      "2020-12-06 14:24:52,071 INFO sqlalchemy.engine.base.Engine INSERT INTO rc25g.products (product_id, product_name, aisle_id, department_id) VALUES (%(product_id)s, %(product_name)s, %(aisle_id)s, %(department_id)s)\n",
      "2020-12-06 14:24:52,072 INFO sqlalchemy.engine.base.Engine ({'product_id': 101, 'product_name': 'Bread, Healthy Whole Grain', 'aisle_id': 112, 'department_id': 3}, {'product_id': 102, 'product_name': 'Danish Butter Cookies', 'aisle_id': 61, 'department_id': 19}, {'product_id': 103, 'product_name': 'Sprouted Kale Cracker', 'aisle_id': 78, 'department_id': 19}, {'product_id': 104, 'product_name': 'High Fiber Tomato Basil Soup', 'aisle_id': 69, 'department_id': 15}, {'product_id': 105, 'product_name': 'Easy Grab 9\\\\\"x13\\\\\" Oblong Glass Bakeware', 'aisle_id': 10, 'department_id': 17}, {'product_id': 106, 'product_name': 'Organic Yummy Tummy Maple & Brown Sugar Instant Oatmeal', 'aisle_id': 92, 'department_id': 18}, {'product_id': 107, 'product_name': 'Mild Salsa Divino', 'aisle_id': 51, 'department_id': 13}, {'product_id': 108, 'product_name': 'Organic Sprouted Barley Bread', 'aisle_id': 112, 'department_id': 3}  ... displaying 10 of 50 total bound parameter sets ...  {'product_id': 149, 'product_name': 'Wild Blueberry All Natural Fruit Spread', 'aisle_id': 88, 'department_id': 13}, {'product_id': 150, 'product_name': 'Brut Rosé', 'aisle_id': 134, 'department_id': 5})\n",
      "2020-12-06 14:24:52,089 INFO sqlalchemy.engine.base.Engine INSERT INTO rc25g.products (product_id, product_name, aisle_id, department_id) VALUES (%(product_id)s, %(product_name)s, %(aisle_id)s, %(department_id)s)\n",
      "2020-12-06 14:24:52,089 INFO sqlalchemy.engine.base.Engine ({'product_id': 151, 'product_name': 'Aromatherapaes Stress Reducing Lavender & Chamomile Spa Bath', 'aisle_id': 132, 'department_id': 11}, {'product_id': 152, 'product_name': '3 in 1 Soap for Every Man, Cucumber & Lemon', 'aisle_id': 25, 'department_id': 11}, {'product_id': 153, 'product_name': 'Fabric Refresher Meadows & Rain Air Freshener (1 Count, 27 oz)  Air Care', 'aisle_id': 75, 'department_id': 17}, {'product_id': 154, 'product_name': 'Corn Dogs, Mini, Honey Crunchy Flavor', 'aisle_id': 129, 'department_id': 1}, {'product_id': 155, 'product_name': 'Artisan Ciabatta', 'aisle_id': 58, 'department_id': 1}, {'product_id': 156, 'product_name': 'Extra Spearmint Sugar-Free Gum', 'aisle_id': 46, 'department_id': 19}, {'product_id': 157, 'product_name': 'Living Organic Cilantro', 'aisle_id': 16, 'department_id': 4}, {'product_id': 158, 'product_name': 'Smoked Ham & Oven Roasted Turkey Sub Sandwich Kit', 'aisle_id': 96, 'department_id': 20}  ... displaying 10 of 50 total bound parameter sets ...  {'product_id': 199, 'product_name': 'Herb Thyme Clamshell', 'aisle_id': 16, 'department_id': 4}, {'product_id': 200, 'product_name': 'Radiant Pantiliners Regular Wrapped Unscented', 'aisle_id': 126, 'department_id': 11})\n",
      "2020-12-06 14:24:52,100 INFO sqlalchemy.engine.base.Engine INSERT INTO rc25g.products (product_id, product_name, aisle_id, department_id) VALUES (%(product_id)s, %(product_name)s, %(aisle_id)s, %(department_id)s)\n",
      "2020-12-06 14:24:52,100 INFO sqlalchemy.engine.base.Engine ({'product_id': 201, 'product_name': 'Sloppy Joe', 'aisle_id': 38, 'department_id': 1}, {'product_id': 202, 'product_name': 'Spinach & Feta Pierogi', 'aisle_id': 38, 'department_id': 1}, {'product_id': 203, 'product_name': 'Rescue Remedy, Spray', 'aisle_id': 11, 'department_id': 11}, {'product_id': 204, 'product_name': 'Free & Clear Natural Laundry Detergent For Sensitive Skin', 'aisle_id': 75, 'department_id': 17}, {'product_id': 205, 'product_name': 'Chocolate Mint Cookie Crunch Nutrition Bar', 'aisle_id': 3, 'department_id': 19}, {'product_id': 206, 'product_name': 'Roasted Vegetable Soufflé', 'aisle_id': 38, 'department_id': 1}, {'product_id': 207, 'product_name': 'Minis Candy Bars', 'aisle_id': 45, 'department_id': 19}, {'product_id': 208, 'product_name': 'Vanilla Almond Cashew Almondmilk Cashewmilk Blend', 'aisle_id': 91, 'department_id': 16}  ... displaying 10 of 50 total bound parameter sets ...  {'product_id': 249, 'product_name': 'Pinot Grigio, California, 2010', 'aisle_id': 62, 'department_id': 5}, {'product_id': 250, 'product_name': 'Authentic Deep Dish, Spinach & Garlic Pizza', 'aisle_id': 79, 'department_id': 1})\n",
      "2020-12-06 14:24:52,112 INFO sqlalchemy.engine.base.Engine INSERT INTO rc25g.products (product_id, product_name, aisle_id, department_id) VALUES (%(product_id)s, %(product_name)s, %(aisle_id)s, %(department_id)s)\n",
      "2020-12-06 14:24:52,113 INFO sqlalchemy.engine.base.Engine ({'product_id': 251, 'product_name': 'Extra Strength Melatonin Adult Gummies', 'aisle_id': 47, 'department_id': 11}, {'product_id': 252, 'product_name': 'Waffles, Red Berry', 'aisle_id': 121, 'department_id': 14}, {'product_id': 253, 'product_name': 'Organic Vegetable Greens & Greens Juice Blend', 'aisle_id': 31, 'department_id': 7}, {'product_id': 254, 'product_name': 'Honey Mustard', 'aisle_id': 72, 'department_id': 13}, {'product_id': 255, 'product_name': 'Cold Remedy, Quick Dissolve Tablets, Cherry Flavor', 'aisle_id': 11, 'department_id': 11}, {'product_id': 256, 'product_name': 'Island Fruits Fruit Snacks', 'aisle_id': 50, 'department_id': 19}, {'product_id': 257, 'product_name': 'Key Lime Soda', 'aisle_id': 77, 'department_id': 7}, {'product_id': 258, 'product_name': 'Vegetable Pot Pie', 'aisle_id': 38, 'department_id': 1}  ... displaying 10 of 50 total bound parameter sets ...  {'product_id': 299, 'product_name': 'Organic Apple Spinach Kale Coconut Water Superjuice', 'aisle_id': 98, 'department_id': 7}, {'product_id': 300, 'product_name': 'Organic Enriched Unbleached White Flour', 'aisle_id': 17, 'department_id': 13})\n"
     ]
    },
    {
     "name": "stdout",
     "output_type": "stream",
     "text": [
      "2020-12-06 14:24:52,123 INFO sqlalchemy.engine.base.Engine INSERT INTO rc25g.products (product_id, product_name, aisle_id, department_id) VALUES (%(product_id)s, %(product_name)s, %(aisle_id)s, %(department_id)s)\n",
      "2020-12-06 14:24:52,124 INFO sqlalchemy.engine.base.Engine ({'product_id': 301, 'product_name': 'Biotin 10,000mcg Maximum Strength', 'aisle_id': 47, 'department_id': 11}, {'product_id': 302, 'product_name': 'Gourmet Dog Treats Bone', 'aisle_id': 40, 'department_id': 8}, {'product_id': 303, 'product_name': 'Candy, Original', 'aisle_id': 45, 'department_id': 19}, {'product_id': 304, 'product_name': 'Dry Roasted Pistachios', 'aisle_id': 117, 'department_id': 19}, {'product_id': 305, 'product_name': 'Wild Forest Raw Neem Honey', 'aisle_id': 29, 'department_id': 13}, {'product_id': 306, 'product_name': 'Gold Potatoes', 'aisle_id': 83, 'department_id': 4}, {'product_id': 307, 'product_name': 'Precious Mozzarella Cheese', 'aisle_id': 21, 'department_id': 16}, {'product_id': 308, 'product_name': 'Advanced Haircare Color Vibrancy Nourishing Shampoo', 'aisle_id': 22, 'department_id': 11}  ... displaying 10 of 50 total bound parameter sets ...  {'product_id': 349, 'product_name': 'Organic Granulated Tapioca', 'aisle_id': 17, 'department_id': 13}, {'product_id': 350, 'product_name': \"Mixed 12 Pack Lion's Share Ale\", 'aisle_id': 27, 'department_id': 5})\n",
      "2020-12-06 14:24:52,135 INFO sqlalchemy.engine.base.Engine INSERT INTO rc25g.products (product_id, product_name, aisle_id, department_id) VALUES (%(product_id)s, %(product_name)s, %(aisle_id)s, %(department_id)s)\n",
      "2020-12-06 14:24:52,135 INFO sqlalchemy.engine.base.Engine ({'product_id': 351, 'product_name': 'Go Fresh Nutrium Moisture Body Wash Blue Fig & Orange Blossom Scent', 'aisle_id': 127, 'department_id': 11}, {'product_id': 352, 'product_name': 'Colby Jack & Mild Cheddar Combo Pack', 'aisle_id': 21, 'department_id': 16}, {'product_id': 353, 'product_name': 'Tzatziki Greek Yogurt Dip', 'aisle_id': 67, 'department_id': 20}, {'product_id': 354, 'product_name': 'Twist n Loc Small Round Containers + Lids', 'aisle_id': 85, 'department_id': 17}, {'product_id': 355, 'product_name': 'Ground Flaxseed With Mixed Berries', 'aisle_id': 117, 'department_id': 19}, {'product_id': 356, 'product_name': 'Ristorante Pizza Spinaci Thin Crust Pizza', 'aisle_id': 79, 'department_id': 1}, {'product_id': 357, 'product_name': 'White Writing Gel', 'aisle_id': 97, 'department_id': 13}, {'product_id': 358, 'product_name': 'Frozen All Butter Pound Cake', 'aisle_id': 119, 'department_id': 1}  ... displaying 10 of 50 total bound parameter sets ...  {'product_id': 399, 'product_name': 'Organic Strawberry Lemon-ade', 'aisle_id': 31, 'department_id': 7}, {'product_id': 400, 'product_name': 'Grass-Fed Yogurt Blueberry Cardamom', 'aisle_id': 120, 'department_id': 16})\n",
      "2020-12-06 14:24:52,144 INFO sqlalchemy.engine.base.Engine INSERT INTO rc25g.products (product_id, product_name, aisle_id, department_id) VALUES (%(product_id)s, %(product_name)s, %(aisle_id)s, %(department_id)s)\n",
      "2020-12-06 14:24:52,145 INFO sqlalchemy.engine.base.Engine ({'product_id': 401, 'product_name': 'Flat Floss, Antiplaque, Naturally Waxed, Spearmint', 'aisle_id': 20, 'department_id': 11}, {'product_id': 402, 'product_name': '100% Pure Beef Homestyle Patties', 'aisle_id': 34, 'department_id': 1}, {'product_id': 403, 'product_name': 'Ultra Thin Pastrami', 'aisle_id': 96, 'department_id': 20}, {'product_id': 404, 'product_name': 'Reg; Organic Apple Cider Vinegar 16 Fl Oz', 'aisle_id': 19, 'department_id': 13}, {'product_id': 405, 'product_name': '100% Organic Diced Tomatoes', 'aisle_id': 81, 'department_id': 15}, {'product_id': 406, 'product_name': 'Vanilla Almond Protein Bar', 'aisle_id': 3, 'department_id': 19}, {'product_id': 407, 'product_name': 'Almond Glow Almond Body Lotion/Massage Oil', 'aisle_id': 109, 'department_id': 11}, {'product_id': 408, 'product_name': 'Pink Vitamin C 1000 Mg Pink Lemonade Drink Mix', 'aisle_id': 47, 'department_id': 11}  ... displaying 10 of 50 total bound parameter sets ...  {'product_id': 449, 'product_name': 'Chips Ahoy! Chewy Cookies', 'aisle_id': 61, 'department_id': 19}, {'product_id': 450, 'product_name': 'Chow Mein Thin Noodles', 'aisle_id': 4, 'department_id': 9})\n",
      "2020-12-06 14:24:52,155 INFO sqlalchemy.engine.base.Engine INSERT INTO rc25g.products (product_id, product_name, aisle_id, department_id) VALUES (%(product_id)s, %(product_name)s, %(aisle_id)s, %(department_id)s)\n",
      "2020-12-06 14:24:52,156 INFO sqlalchemy.engine.base.Engine ({'product_id': 451, 'product_name': 'Almond Spread, Dark Chocolate', 'aisle_id': 88, 'department_id': 13}, {'product_id': 452, 'product_name': 'Sleepytime Sinus Soother Herbal Tea', 'aisle_id': 94, 'department_id': 7}, {'product_id': 453, 'product_name': 'Hummus Wrap', 'aisle_id': 13, 'department_id': 20}, {'product_id': 454, 'product_name': 'Sloppy Joe Sauce', 'aisle_id': 51, 'department_id': 13}, {'product_id': 455, 'product_name': 'Ibuprofen Liquid Gels', 'aisle_id': 133, 'department_id': 11}, {'product_id': 456, 'product_name': 'Sparkling Blueberry', 'aisle_id': 77, 'department_id': 7}, {'product_id': 457, 'product_name': 'Whole Wheat Fig Bar', 'aisle_id': 48, 'department_id': 14}, {'product_id': 458, 'product_name': 'Total Advanced Floss Tip Medium Toothbrush', 'aisle_id': 20, 'department_id': 11}  ... displaying 10 of 50 total bound parameter sets ...  {'product_id': 499, 'product_name': 'Aspirin 325 Mg', 'aisle_id': 133, 'department_id': 11}, {'product_id': 500, 'product_name': 'Non-Scratch Scrub Sponges', 'aisle_id': 114, 'department_id': 17})\n",
      "2020-12-06 14:24:52,165 INFO sqlalchemy.engine.base.Engine INSERT INTO rc25g.products (product_id, product_name, aisle_id, department_id) VALUES (%(product_id)s, %(product_name)s, %(aisle_id)s, %(department_id)s)\n",
      "2020-12-06 14:24:52,166 INFO sqlalchemy.engine.base.Engine ({'product_id': 501, 'product_name': 'Proactive Health Mature Adult Hairball Care Cat Food', 'aisle_id': 41, 'department_id': 8}, {'product_id': 502, 'product_name': 'Frozen Desserts, Fit, Salted Caramel', 'aisle_id': 37, 'department_id': 1}, {'product_id': 503, 'product_name': 'Wild Rice Blend', 'aisle_id': 68, 'department_id': 10}, {'product_id': 504, 'product_name': 'Velveeta Shells & Cheese Bold Jalapeno', 'aisle_id': 4, 'department_id': 9}, {'product_id': 505, 'product_name': '100% Natural String Cheese Mozzarella Cheese', 'aisle_id': 21, 'department_id': 16}, {'product_id': 506, 'product_name': 'Arrowroot Powder', 'aisle_id': 6, 'department_id': 2}, {'product_id': 507, 'product_name': 'Tikka Masala Curry Sauce', 'aisle_id': 72, 'department_id': 13}, {'product_id': 508, 'product_name': 'Freeze-Dried Edamame Veggie Snack', 'aisle_id': 50, 'department_id': 19}  ... displaying 10 of 50 total bound parameter sets ...  {'product_id': 549, 'product_name': 'Cranberry Almond Fruit Clusters Dried Cranberries', 'aisle_id': 125, 'department_id': 19}, {'product_id': 550, 'product_name': 'Granola, Veritas, Organic', 'aisle_id': 57, 'department_id': 14})\n",
      "2020-12-06 14:24:52,175 INFO sqlalchemy.engine.base.Engine INSERT INTO rc25g.products (product_id, product_name, aisle_id, department_id) VALUES (%(product_id)s, %(product_name)s, %(aisle_id)s, %(department_id)s)\n",
      "2020-12-06 14:24:52,175 INFO sqlalchemy.engine.base.Engine ({'product_id': 551, 'product_name': 'Riesling, Mosel, 2014', 'aisle_id': 62, 'department_id': 5}, {'product_id': 552, 'product_name': 'Organic Mango Peach Carrot Kickstart Smoothie', 'aisle_id': 116, 'department_id': 1}, {'product_id': 553, 'product_name': 'BBQ Concentrate & Marinade Sauce', 'aisle_id': 5, 'department_id': 13}, {'product_id': 554, 'product_name': 'Turkey Chili', 'aisle_id': 1, 'department_id': 20}, {'product_id': 555, 'product_name': 'Even The Kitchen Sink Kitchen & Bath Scrubber', 'aisle_id': 114, 'department_id': 17}, {'product_id': 556, 'product_name': 'Bake & Break Cheese Garlic Loaf', 'aisle_id': 100, 'department_id': 21}, {'product_id': 557, 'product_name': 'Red Seedless Grapes Imported', 'aisle_id': 24, 'department_id': 4}, {'product_id': 558, 'product_name': 'Organic Raw Almond Butter', 'aisle_id': 88, 'department_id': 13}  ... displaying 10 of 50 total bound parameter sets ...  {'product_id': 599, 'product_name': 'Floor Care Tile & Vinyl Floor Finish Clean Scent', 'aisle_id': 114, 'department_id': 17}, {'product_id': 600, 'product_name': 'Thick & Zesty Spaghetti Sauce Mix', 'aisle_id': 104, 'department_id': 13})\n"
     ]
    },
    {
     "name": "stdout",
     "output_type": "stream",
     "text": [
      "2020-12-06 14:24:52,187 INFO sqlalchemy.engine.base.Engine INSERT INTO rc25g.products (product_id, product_name, aisle_id, department_id) VALUES (%(product_id)s, %(product_name)s, %(aisle_id)s, %(department_id)s)\n",
      "2020-12-06 14:24:52,188 INFO sqlalchemy.engine.base.Engine ({'product_id': 601, 'product_name': 'Organic Crunchy Slaw Americana Salad', 'aisle_id': 123, 'department_id': 4}, {'product_id': 602, 'product_name': 'Banana Chocolate Chip', 'aisle_id': 52, 'department_id': 1}, {'product_id': 603, 'product_name': 'NasaFlo Neti Pot Sinus Relief with Premixed', 'aisle_id': 11, 'department_id': 11}, {'product_id': 604, 'product_name': 'Cookie Sheets', 'aisle_id': 10, 'department_id': 17}, {'product_id': 605, 'product_name': 'Natural Liquid Laundry Detergent - Blue Eucalyptus and Lavender', 'aisle_id': 75, 'department_id': 17}, {'product_id': 606, 'product_name': 'Salted Caramel Ice Cream', 'aisle_id': 37, 'department_id': 1}, {'product_id': 607, 'product_name': 'Goober Strawberry', 'aisle_id': 88, 'department_id': 13}, {'product_id': 608, 'product_name': 'Sparkling Lemon Seltzer Water', 'aisle_id': 115, 'department_id': 7}  ... displaying 10 of 50 total bound parameter sets ...  {'product_id': 649, 'product_name': 'Classic coke', 'aisle_id': 77, 'department_id': 7}, {'product_id': 650, 'product_name': \"Pop'n Hot! Vegan Broccoli Poppers\", 'aisle_id': 50, 'department_id': 19})\n",
      "2020-12-06 14:24:52,203 INFO sqlalchemy.engine.base.Engine INSERT INTO rc25g.products (product_id, product_name, aisle_id, department_id) VALUES (%(product_id)s, %(product_name)s, %(aisle_id)s, %(department_id)s)\n",
      "2020-12-06 14:24:52,204 INFO sqlalchemy.engine.base.Engine ({'product_id': 651, 'product_name': 'Organic Salted Butter', 'aisle_id': 36, 'department_id': 16}, {'product_id': 652, 'product_name': 'Garden Strawberry Fruit Spread', 'aisle_id': 88, 'department_id': 13}, {'product_id': 653, 'product_name': 'Flax, Oat Bran & Whole Wheat Flour Tortillas', 'aisle_id': 128, 'department_id': 3}, {'product_id': 654, 'product_name': 'Ultra Thin Super Long with Wings Pads', 'aisle_id': 126, 'department_id': 11}, {'product_id': 655, 'product_name': 'Fettucine Paglia & Fieno Enriched Egg Pasta', 'aisle_id': 131, 'department_id': 9}, {'product_id': 656, 'product_name': 'Biotin Super Strength 7500 mcg Tablets', 'aisle_id': 47, 'department_id': 11}, {'product_id': 657, 'product_name': 'Nutrition Bar, Raw Organic, Pineapple Almond + Raw Protein', 'aisle_id': 3, 'department_id': 19}, {'product_id': 658, 'product_name': 'Keebler Sandies Cashew 12.8 Oz', 'aisle_id': 61, 'department_id': 19}  ... displaying 10 of 50 total bound parameter sets ...  {'product_id': 699, 'product_name': 'Sugo Rosa Pasta Sauce', 'aisle_id': 9, 'department_id': 9}, {'product_id': 700, 'product_name': 'Jet Fuel Dark Roast Whole Bean Coffee', 'aisle_id': 26, 'department_id': 7})\n",
      "2020-12-06 14:24:52,214 INFO sqlalchemy.engine.base.Engine INSERT INTO rc25g.products (product_id, product_name, aisle_id, department_id) VALUES (%(product_id)s, %(product_name)s, %(aisle_id)s, %(department_id)s)\n",
      "2020-12-06 14:24:52,215 INFO sqlalchemy.engine.base.Engine ({'product_id': 701, 'product_name': 'Blueberry Blast Bar', 'aisle_id': 3, 'department_id': 19}, {'product_id': 702, 'product_name': 'Cheese Spread Port Wine', 'aisle_id': 2, 'department_id': 16}, {'product_id': 703, 'product_name': 'Traditional No Fat Refried Beans', 'aisle_id': 59, 'department_id': 15}, {'product_id': 704, 'product_name': 'Outlast Xtend Clean Lavender Invisible Solid', 'aisle_id': 80, 'department_id': 11}, {'product_id': 705, 'product_name': 'Fajita Flour Tortillas', 'aisle_id': 128, 'department_id': 3}, {'product_id': 706, 'product_name': 'Furniture Polish Lemon Scent', 'aisle_id': 114, 'department_id': 17}, {'product_id': 707, 'product_name': 'XyliWhite Platinum Mint Toothpaste Gel', 'aisle_id': 20, 'department_id': 11}, {'product_id': 708, 'product_name': 'Unscented Regular Sleek Tampons', 'aisle_id': 126, 'department_id': 11}  ... displaying 10 of 50 total bound parameter sets ...  {'product_id': 749, 'product_name': 'Dark Chocolate Bar 68% Cacao', 'aisle_id': 45, 'department_id': 19}, {'product_id': 750, 'product_name': 'Marble Cake Slice', 'aisle_id': 8, 'department_id': 3})\n",
      "2020-12-06 14:24:52,225 INFO sqlalchemy.engine.base.Engine INSERT INTO rc25g.products (product_id, product_name, aisle_id, department_id) VALUES (%(product_id)s, %(product_name)s, %(aisle_id)s, %(department_id)s)\n",
      "2020-12-06 14:24:52,225 INFO sqlalchemy.engine.base.Engine ({'product_id': 751, 'product_name': 'Clean Day Countertop Spray', 'aisle_id': 114, 'department_id': 17}, {'product_id': 752, 'product_name': 'Tomatillos Tomatoes', 'aisle_id': 30, 'department_id': 6}, {'product_id': 753, 'product_name': 'Milk Chocolate Toffee Bits', 'aisle_id': 17, 'department_id': 13}, {'product_id': 754, 'product_name': \"Hydro Silk Women's Sensitive Skin Refill Blades\", 'aisle_id': 55, 'department_id': 11}, {'product_id': 755, 'product_name': 'Skim Milk sharp Cheddar Cheese Singles', 'aisle_id': 21, 'department_id': 16}, {'product_id': 756, 'product_name': 'Malt Vinegar & Sea Salt Kettle Cooked Potato Chips', 'aisle_id': 107, 'department_id': 19}, {'product_id': 757, 'product_name': 'Premium Deli Hard Salami', 'aisle_id': 96, 'department_id': 20}, {'product_id': 758, 'product_name': 'No Sugar Added The Original Fudge Pops', 'aisle_id': 37, 'department_id': 1}  ... displaying 10 of 50 total bound parameter sets ...  {'product_id': 799, 'product_name': 'Fresh Cut Specialties Cut Golden Wax Beans', 'aisle_id': 81, 'department_id': 15}, {'product_id': 800, 'product_name': 'Organic Classic Caraway Kraut', 'aisle_id': 110, 'department_id': 13})\n",
      "2020-12-06 14:24:52,235 INFO sqlalchemy.engine.base.Engine INSERT INTO rc25g.products (product_id, product_name, aisle_id, department_id) VALUES (%(product_id)s, %(product_name)s, %(aisle_id)s, %(department_id)s)\n",
      "2020-12-06 14:24:52,236 INFO sqlalchemy.engine.base.Engine ({'product_id': 801, 'product_name': 'Advanced Care Skin Renew Anti-Perspirant Deodorant', 'aisle_id': 80, 'department_id': 11}, {'product_id': 802, 'product_name': 'Organic Super Berry Juice', 'aisle_id': 31, 'department_id': 7}, {'product_id': 803, 'product_name': 'Heirloom Boysenberries', 'aisle_id': 116, 'department_id': 1}, {'product_id': 804, 'product_name': 'Ratatouille', 'aisle_id': 100, 'department_id': 21}, {'product_id': 805, 'product_name': 'Vitamin D3 1000 I.U Vegetable Capsules', 'aisle_id': 47, 'department_id': 11}, {'product_id': 806, 'product_name': '100% Cranberry Juice Blend', 'aisle_id': 98, 'department_id': 7}, {'product_id': 807, 'product_name': 'For Chicken Marinade', 'aisle_id': 5, 'department_id': 13}, {'product_id': 808, 'product_name': 'Wild Raspberry Hibiscus Caffiene Free Herbal Tea Bags', 'aisle_id': 94, 'department_id': 7}  ... displaying 10 of 50 total bound parameter sets ...  {'product_id': 849, 'product_name': 'Blueberry & Banana Tiny Fruits Freeze Dried Snacks', 'aisle_id': 92, 'department_id': 18}, {'product_id': 850, 'product_name': 'Crunchy & Soft Taco Dinner Kit', 'aisle_id': 30, 'department_id': 6})\n",
      "2020-12-06 14:24:52,246 INFO sqlalchemy.engine.base.Engine INSERT INTO rc25g.products (product_id, product_name, aisle_id, department_id) VALUES (%(product_id)s, %(product_name)s, %(aisle_id)s, %(department_id)s)\n",
      "2020-12-06 14:24:52,247 INFO sqlalchemy.engine.base.Engine ({'product_id': 851, 'product_name': 'Chile Con Queso Potato Crisps', 'aisle_id': 107, 'department_id': 19}, {'product_id': 852, 'product_name': 'Light String Cheese', 'aisle_id': 21, 'department_id': 16}, {'product_id': 853, 'product_name': 'Crunchy Granola Bars Variety Pack', 'aisle_id': 48, 'department_id': 14}, {'product_id': 854, 'product_name': 'Traditional Red Miso', 'aisle_id': 66, 'department_id': 6}, {'product_id': 855, 'product_name': 'Clamato Chelada Beer', 'aisle_id': 27, 'department_id': 5}, {'product_id': 856, 'product_name': 'Asiago Cheese Bread', 'aisle_id': 21, 'department_id': 16}, {'product_id': 857, 'product_name': 'Grilled Asparagus', 'aisle_id': 123, 'department_id': 4}, {'product_id': 858, 'product_name': 'Pomegranate Coconut Sparkling Probiotic Drink, Organic', 'aisle_id': 31, 'department_id': 7}  ... displaying 10 of 50 total bound parameter sets ...  {'product_id': 899, 'product_name': 'Colby Jack Cheese Slices', 'aisle_id': 21, 'department_id': 16}, {'product_id': 900, 'product_name': 'Fava Crisps, Santa Barbara Ranch', 'aisle_id': 107, 'department_id': 19})\n"
     ]
    },
    {
     "name": "stdout",
     "output_type": "stream",
     "text": [
      "2020-12-06 14:24:52,257 INFO sqlalchemy.engine.base.Engine INSERT INTO rc25g.products (product_id, product_name, aisle_id, department_id) VALUES (%(product_id)s, %(product_name)s, %(aisle_id)s, %(department_id)s)\n",
      "2020-12-06 14:24:52,258 INFO sqlalchemy.engine.base.Engine ({'product_id': 901, 'product_name': 'Dark Chocolate Peanut Candy', 'aisle_id': 45, 'department_id': 19}, {'product_id': 902, 'product_name': 'Baked Rice Crisps, Sour Cream & Wasabi, Medium', 'aisle_id': 78, 'department_id': 19}, {'product_id': 903, 'product_name': 'Gluten Free Sugar Cones', 'aisle_id': 103, 'department_id': 19}, {'product_id': 904, 'product_name': 'Tofu, Gluten Free, Garlic Pepper', 'aisle_id': 14, 'department_id': 20}, {'product_id': 905, 'product_name': 'Fish Oil with Vitamin D 1000mg', 'aisle_id': 47, 'department_id': 11}, {'product_id': 906, 'product_name': 'Chamomilla 30 C', 'aisle_id': 47, 'department_id': 11}, {'product_id': 907, 'product_name': 'Premium Sliced Bacon', 'aisle_id': 106, 'department_id': 12}, {'product_id': 908, 'product_name': 'Onion & Herb Salt-Free Seasoning Blend', 'aisle_id': 104, 'department_id': 13}  ... displaying 10 of 50 total bound parameter sets ...  {'product_id': 949, 'product_name': 'Sensitive Shave Gel with Aloe', 'aisle_id': 55, 'department_id': 11}, {'product_id': 950, 'product_name': 'Toll House Ultimate Chocolate Peanut Butter Deluxe Cookie Dough', 'aisle_id': 105, 'department_id': 13})\n",
      "2020-12-06 14:24:52,268 INFO sqlalchemy.engine.base.Engine INSERT INTO rc25g.products (product_id, product_name, aisle_id, department_id) VALUES (%(product_id)s, %(product_name)s, %(aisle_id)s, %(department_id)s)\n",
      "2020-12-06 14:24:52,268 INFO sqlalchemy.engine.base.Engine ({'product_id': 951, 'product_name': 'Vitamin D3 Cholecalciferol Softgels', 'aisle_id': 47, 'department_id': 11}, {'product_id': 952, 'product_name': 'Flaxseed Meal, Whole Ground', 'aisle_id': 17, 'department_id': 13}, {'product_id': 953, 'product_name': 'Plain Fat Free Yogurt', 'aisle_id': 120, 'department_id': 16}, {'product_id': 954, 'product_name': 'Simple White Down East Crackers', 'aisle_id': 78, 'department_id': 19}, {'product_id': 955, 'product_name': 'Cheddar Chex Mix', 'aisle_id': 125, 'department_id': 19}, {'product_id': 956, 'product_name': 'Shampoo Baby Shampoo', 'aisle_id': 102, 'department_id': 18}, {'product_id': 957, 'product_name': 'Key Lime Moisture Shave', 'aisle_id': 55, 'department_id': 11}, {'product_id': 958, 'product_name': 'Almond Extract', 'aisle_id': 47, 'department_id': 11}  ... displaying 10 of 50 total bound parameter sets ...  {'product_id': 999, 'product_name': 'Original Organic Ville BBQ Sauce', 'aisle_id': 5, 'department_id': 13}, {'product_id': 1000, 'product_name': 'Apricots', 'aisle_id': 18, 'department_id': 10})\n",
      "2020-12-06 14:24:52,279 INFO sqlalchemy.engine.base.Engine INSERT INTO rc25g.products (product_id, product_name, aisle_id, department_id) VALUES (%(product_id)s, %(product_name)s, %(aisle_id)s, %(department_id)s)\n",
      "2020-12-06 14:24:52,280 INFO sqlalchemy.engine.base.Engine ({'product_id': 1001, 'product_name': 'Unseeded Plain Rye', 'aisle_id': 112, 'department_id': 3}, {'product_id': 1002, 'product_name': 'All Natural Stevia Liquid Extract Sweetener', 'aisle_id': 17, 'department_id': 13}, {'product_id': 1003, 'product_name': 'Organic Turkey Bone Broth', 'aisle_id': 5, 'department_id': 13}, {'product_id': 1004, 'product_name': 'Vitamin E Moisture Rich Shampoo for Dry or Damaged Hair', 'aisle_id': 22, 'department_id': 11}, {'product_id': 1005, 'product_name': 'China Green Tips Green Tea', 'aisle_id': 94, 'department_id': 7}, {'product_id': 1006, 'product_name': 'Philadelphia Cream Cheese', 'aisle_id': 108, 'department_id': 16}, {'product_id': 1007, 'product_name': 'Baby Cookies Apple + Ginger', 'aisle_id': 92, 'department_id': 18}, {'product_id': 1008, 'product_name': 'Red Rice Crackers', 'aisle_id': 78, 'department_id': 19}  ... displaying 10 of 50 total bound parameter sets ...  {'product_id': 1049, 'product_name': 'Special K Protein Chewy Granola Bars Almond Honey Oat', 'aisle_id': 48, 'department_id': 14}, {'product_id': 1050, 'product_name': 'Adrenal Health Liquid Capsules', 'aisle_id': 126, 'department_id': 11})\n",
      "2020-12-06 14:24:52,290 INFO sqlalchemy.engine.base.Engine INSERT INTO rc25g.products (product_id, product_name, aisle_id, department_id) VALUES (%(product_id)s, %(product_name)s, %(aisle_id)s, %(department_id)s)\n",
      "2020-12-06 14:24:52,291 INFO sqlalchemy.engine.base.Engine ({'product_id': 1051, 'product_name': 'Silverware, Metallic', 'aisle_id': 111, 'department_id': 17}, {'product_id': 1052, 'product_name': 'Curl Enhancing Shea Butter Leave-In Conditioner', 'aisle_id': 22, 'department_id': 11}, {'product_id': 1053, 'product_name': 'Clean Cuisine Food Prep Disposable Gloves', 'aisle_id': 114, 'department_id': 17}, {'product_id': 1054, 'product_name': 'Greek Kefir Honey', 'aisle_id': 120, 'department_id': 16}, {'product_id': 1055, 'product_name': 'Naturals Grilled Chicken Nugget', 'aisle_id': 100, 'department_id': 21}, {'product_id': 1056, 'product_name': 'Roasted Garlic Mashed Potates', 'aisle_id': 4, 'department_id': 9}, {'product_id': 1057, 'product_name': 'Basil, Asiago & Pine Nut Pesto Ravioli', 'aisle_id': 13, 'department_id': 20}, {'product_id': 1058, 'product_name': 'Pure Butter Shortbread Scottie Dogs', 'aisle_id': 61, 'department_id': 19}  ... displaying 10 of 50 total bound parameter sets ...  {'product_id': 1099, 'product_name': 'Cuties Non Dairy Vanilla Frozen Dessert Sandwiches', 'aisle_id': 37, 'department_id': 1}, {'product_id': 1100, 'product_name': 'Balanced Breaks White Cheddar with Sea Salted Roasted Almonds and Dried Cranberries', 'aisle_id': 108, 'department_id': 16})\n",
      "2020-12-06 14:24:52,308 INFO sqlalchemy.engine.base.Engine INSERT INTO rc25g.products (product_id, product_name, aisle_id, department_id) VALUES (%(product_id)s, %(product_name)s, %(aisle_id)s, %(department_id)s)\n",
      "2020-12-06 14:24:52,309 INFO sqlalchemy.engine.base.Engine ({'product_id': 1101, 'product_name': 'Seasonal Tamale', 'aisle_id': 30, 'department_id': 6}, {'product_id': 1102, 'product_name': 'Prepare And Serve Mashed Potatoes', 'aisle_id': 4, 'department_id': 9}, {'product_id': 1103, 'product_name': 'Hickory Smoked Turkey Breast', 'aisle_id': 96, 'department_id': 20}, {'product_id': 1104, 'product_name': 'Plain Yogurt', 'aisle_id': 120, 'department_id': 16}, {'product_id': 1105, 'product_name': 'Nag Champa Incense', 'aisle_id': 101, 'department_id': 17}, {'product_id': 1106, 'product_name': 'Cranberry Almond Plus Antioxidants 1.4 oz Fruit & Nut Bars', 'aisle_id': 3, 'department_id': 19}, {'product_id': 1107, 'product_name': 'No Scratch Scrubber Sponges', 'aisle_id': 114, 'department_id': 17}, {'product_id': 1108, 'product_name': 'Hummus Roasted Garlic', 'aisle_id': 67, 'department_id': 20}  ... displaying 10 of 50 total bound parameter sets ...  {'product_id': 1149, 'product_name': 'Fresh Blue Agave Gold Tequila', 'aisle_id': 124, 'department_id': 5}, {'product_id': 1150, 'product_name': 'AFC Sushi Spicy Salmon Roll Prepared In Store, Ready To Eat', 'aisle_id': 13, 'department_id': 20})\n",
      "2020-12-06 14:24:52,319 INFO sqlalchemy.engine.base.Engine INSERT INTO rc25g.products (product_id, product_name, aisle_id, department_id) VALUES (%(product_id)s, %(product_name)s, %(aisle_id)s, %(department_id)s)\n",
      "2020-12-06 14:24:52,320 INFO sqlalchemy.engine.base.Engine ({'product_id': 1151, 'product_name': 'Sesame Teriyaki Sauce & Marinade', 'aisle_id': 5, 'department_id': 13}, {'product_id': 1152, 'product_name': 'Beach Defense Water + Sun Barrier Spray Sunscreen Spf 70', 'aisle_id': 127, 'department_id': 11}, {'product_id': 1153, 'product_name': 'Coho Salmon Fillet', 'aisle_id': 39, 'department_id': 12}, {'product_id': 1154, 'product_name': 'Pomegranate Blueberry Sparkling Water', 'aisle_id': 115, 'department_id': 7}, {'product_id': 1155, 'product_name': 'Black Olive Walnut Bar', 'aisle_id': 3, 'department_id': 19}, {'product_id': 1156, 'product_name': 'Semisweet Chocolate Super Cookie Chips', 'aisle_id': 17, 'department_id': 13}, {'product_id': 1157, 'product_name': 'Wheat Sandwich Bread', 'aisle_id': 112, 'department_id': 3}, {'product_id': 1158, 'product_name': 'Mango Chunks', 'aisle_id': 116, 'department_id': 1}  ... displaying 10 of 50 total bound parameter sets ...  {'product_id': 1199, 'product_name': 'YoTot Organic Raspberry Pear Yogurt', 'aisle_id': 120, 'department_id': 16}, {'product_id': 1200, 'product_name': 'Vegetable Classics Vegetable Soup', 'aisle_id': 69, 'department_id': 15})\n"
     ]
    },
    {
     "name": "stdout",
     "output_type": "stream",
     "text": [
      "2020-12-06 14:24:52,331 INFO sqlalchemy.engine.base.Engine INSERT INTO rc25g.products (product_id, product_name, aisle_id, department_id) VALUES (%(product_id)s, %(product_name)s, %(aisle_id)s, %(department_id)s)\n",
      "2020-12-06 14:24:52,331 INFO sqlalchemy.engine.base.Engine ({'product_id': 1201, 'product_name': 'Maxi Super with Flexi-Wings', 'aisle_id': 126, 'department_id': 11}, {'product_id': 1202, 'product_name': 'Organic Whole Grain Oatmeal Cereal Baby Food', 'aisle_id': 92, 'department_id': 18}, {'product_id': 1203, 'product_name': 'Crunchy Organic Dark Roasted Peanut Butter', 'aisle_id': 88, 'department_id': 13}, {'product_id': 1204, 'product_name': 'Rain Bath Refreshing Shower Gel', 'aisle_id': 127, 'department_id': 11}, {'product_id': 1205, 'product_name': 'Gourmet Nacho Cheddar Cheese Sauce', 'aisle_id': 30, 'department_id': 6}, {'product_id': 1206, 'product_name': 'Noodle Soup, Shin Cup, Gourmet Spicy', 'aisle_id': 66, 'department_id': 6}, {'product_id': 1207, 'product_name': 'Garlic Primavera Risotto', 'aisle_id': 4, 'department_id': 9}, {'product_id': 1208, 'product_name': 'Organic Roasted Dandelion Root Herbal Tea', 'aisle_id': 94, 'department_id': 7}  ... displaying 10 of 50 total bound parameter sets ...  {'product_id': 1249, 'product_name': 'Blueberry Jam', 'aisle_id': 88, 'department_id': 13}, {'product_id': 1250, 'product_name': 'Turkey Breast Oven Roasted', 'aisle_id': 13, 'department_id': 20})\n",
      "2020-12-06 14:24:52,342 INFO sqlalchemy.engine.base.Engine INSERT INTO rc25g.products (product_id, product_name, aisle_id, department_id) VALUES (%(product_id)s, %(product_name)s, %(aisle_id)s, %(department_id)s)\n",
      "2020-12-06 14:24:52,342 INFO sqlalchemy.engine.base.Engine ({'product_id': 1251, 'product_name': 'Whole Pickled Beets', 'aisle_id': 81, 'department_id': 15}, {'product_id': 1252, 'product_name': 'Whole Coriander', 'aisle_id': 104, 'department_id': 13}, {'product_id': 1253, 'product_name': '93% Lean Ground Beef', 'aisle_id': 7, 'department_id': 12}, {'product_id': 1254, 'product_name': 'Cranberry Splash Diet Soda', 'aisle_id': 77, 'department_id': 7}, {'product_id': 1255, 'product_name': 'Old Fashioned Bar Shampoo Original Formula', 'aisle_id': 22, 'department_id': 11}, {'product_id': 1256, 'product_name': 'Mini Strawberry Donuts', 'aisle_id': 61, 'department_id': 19}, {'product_id': 1257, 'product_name': 'Organic Amaranth Flakes', 'aisle_id': 121, 'department_id': 14}, {'product_id': 1258, 'product_name': 'Maple Almond Snack Pack', 'aisle_id': 71, 'department_id': 16}  ... displaying 10 of 50 total bound parameter sets ...  {'product_id': 1299, 'product_name': 'Lavender Room Freshener', 'aisle_id': 101, 'department_id': 17}, {'product_id': 1300, 'product_name': 'Black Cherry Gelatin Dessert', 'aisle_id': 105, 'department_id': 13})\n",
      "2020-12-06 14:24:52,360 INFO sqlalchemy.engine.base.Engine INSERT INTO rc25g.products (product_id, product_name, aisle_id, department_id) VALUES (%(product_id)s, %(product_name)s, %(aisle_id)s, %(department_id)s)\n",
      "2020-12-06 14:24:52,360 INFO sqlalchemy.engine.base.Engine ({'product_id': 1301, 'product_name': 'Cereal, Panda Puffs, Peanut Butter', 'aisle_id': 121, 'department_id': 14}, {'product_id': 1302, 'product_name': 'Natural Orange Flavor Liquid Sublingual Melatonin', 'aisle_id': 100, 'department_id': 21}, {'product_id': 1303, 'product_name': 'Fruit & Yogurt Grabbers Peaches & Cream', 'aisle_id': 92, 'department_id': 18}, {'product_id': 1304, 'product_name': 'Little Movers Comfort Fit Size 3 Diapers', 'aisle_id': 56, 'department_id': 18}, {'product_id': 1305, 'product_name': \"Vintner's Reserve Johannisberg Riesling\", 'aisle_id': 62, 'department_id': 5}, {'product_id': 1306, 'product_name': 'Raisin Bran Whole Grain Wheat & Bran Cereal', 'aisle_id': 121, 'department_id': 14}, {'product_id': 1307, 'product_name': 'Tortilla Chips, Yellow Corn', 'aisle_id': 107, 'department_id': 19}, {'product_id': 1308, 'product_name': 'Organic Coconut Flour', 'aisle_id': 17, 'department_id': 13}  ... displaying 10 of 50 total bound parameter sets ...  {'product_id': 1349, 'product_name': 'Greek Yogurt Banana & Pumpkin', 'aisle_id': 92, 'department_id': 18}, {'product_id': 1350, 'product_name': 'Sparkling Clementine Juice Beverage Blend', 'aisle_id': 77, 'department_id': 7})\n",
      "2020-12-06 14:24:52,372 INFO sqlalchemy.engine.base.Engine INSERT INTO rc25g.products (product_id, product_name, aisle_id, department_id) VALUES (%(product_id)s, %(product_name)s, %(aisle_id)s, %(department_id)s)\n",
      "2020-12-06 14:24:52,372 INFO sqlalchemy.engine.base.Engine ({'product_id': 1351, 'product_name': \"O'Coconut Lightly Sweetened Coconut Treat Classic\", 'aisle_id': 45, 'department_id': 19}, {'product_id': 1352, 'product_name': 'Lemon Lime Sports Drink', 'aisle_id': 64, 'department_id': 7}, {'product_id': 1353, 'product_name': 'Matte Finish Firm Hold Fiber Cream', 'aisle_id': 22, 'department_id': 11}, {'product_id': 1354, 'product_name': 'Honey Roasted Peanuts', 'aisle_id': 117, 'department_id': 19}, {'product_id': 1355, 'product_name': 'AromaHappy Gel Air Freshener', 'aisle_id': 101, 'department_id': 17}, {'product_id': 1356, 'product_name': 'Sweet Potato, White Beans & Cinnamon Stage 2', 'aisle_id': 92, 'department_id': 18}, {'product_id': 1357, 'product_name': 'Rich & Creamy Grand Neapolitan Ice Cream', 'aisle_id': 37, 'department_id': 1}, {'product_id': 1358, 'product_name': 'Phillips Gourmet Portabella Mushroom', 'aisle_id': 123, 'department_id': 4}  ... displaying 10 of 50 total bound parameter sets ...  {'product_id': 1399, 'product_name': 'Reduced Fat Cream of Mushroom Condensed Soup', 'aisle_id': 69, 'department_id': 15}, {'product_id': 1400, 'product_name': 'Banana Pudding', 'aisle_id': 8, 'department_id': 3})\n",
      "2020-12-06 14:24:52,383 INFO sqlalchemy.engine.base.Engine INSERT INTO rc25g.products (product_id, product_name, aisle_id, department_id) VALUES (%(product_id)s, %(product_name)s, %(aisle_id)s, %(department_id)s)\n",
      "2020-12-06 14:24:52,383 INFO sqlalchemy.engine.base.Engine ({'product_id': 1401, 'product_name': 'Relax Riesling', 'aisle_id': 62, 'department_id': 5}, {'product_id': 1402, 'product_name': 'Plain Soymilk Creamer', 'aisle_id': 91, 'department_id': 16}, {'product_id': 1403, 'product_name': 'Mint Teenage Mutant Ninja Turtle Mouthwash', 'aisle_id': 20, 'department_id': 11}, {'product_id': 1404, 'product_name': 'Herba Tussin Tea Bags', 'aisle_id': 94, 'department_id': 7}, {'product_id': 1405, 'product_name': 'Kids Soft and Chewy Candy', 'aisle_id': 45, 'department_id': 19}, {'product_id': 1406, 'product_name': 'Vegan Nutritional Shake Sweet Vanilla Bean', 'aisle_id': 65, 'department_id': 11}, {'product_id': 1407, 'product_name': 'Veggie Spirals', 'aisle_id': 131, 'department_id': 9}, {'product_id': 1408, 'product_name': 'Mini Cucumbers', 'aisle_id': 123, 'department_id': 4}  ... displaying 10 of 50 total bound parameter sets ...  {'product_id': 1449, 'product_name': 'Firecracker  Ice Pops', 'aisle_id': 37, 'department_id': 1}, {'product_id': 1450, 'product_name': 'Original Bobos Bites', 'aisle_id': 3, 'department_id': 19})\n",
      "2020-12-06 14:24:52,393 INFO sqlalchemy.engine.base.Engine INSERT INTO rc25g.products (product_id, product_name, aisle_id, department_id) VALUES (%(product_id)s, %(product_name)s, %(aisle_id)s, %(department_id)s)\n",
      "2020-12-06 14:24:52,394 INFO sqlalchemy.engine.base.Engine ({'product_id': 1451, 'product_name': 'Oops! All Berries Cereal', 'aisle_id': 121, 'department_id': 14}, {'product_id': 1452, 'product_name': 'Lean Protein & Fiber Bar Honey Drizzle Peanut', 'aisle_id': 3, 'department_id': 19}, {'product_id': 1453, 'product_name': 'Theraneem Neem Mouthwash - Herbal Mint', 'aisle_id': 20, 'department_id': 11}, {'product_id': 1454, 'product_name': 'Coconut & Almond Candy Bar', 'aisle_id': 45, 'department_id': 19}, {'product_id': 1455, 'product_name': 'Firm Pesto Tofu', 'aisle_id': 14, 'department_id': 20}, {'product_id': 1456, 'product_name': 'Organic Caesar Premium Croutons', 'aisle_id': 89, 'department_id': 13}, {'product_id': 1457, 'product_name': 'Banana Protein Kefir Nonfat Cultured Milk Smoothie Probiotic', 'aisle_id': 31, 'department_id': 7}, {'product_id': 1458, 'product_name': 'Ice Pops Sugar Free Orange Cherry Grape', 'aisle_id': 37, 'department_id': 1}  ... displaying 10 of 50 total bound parameter sets ...  {'product_id': 1499, 'product_name': 'Black Olive Spread', 'aisle_id': 88, 'department_id': 13}, {'product_id': 1500, 'product_name': 'All Natural Chives', 'aisle_id': 104, 'department_id': 13})\n"
     ]
    },
    {
     "name": "stdout",
     "output_type": "stream",
     "text": [
      "2020-12-06 14:24:52,404 INFO sqlalchemy.engine.base.Engine INSERT INTO rc25g.products (product_id, product_name, aisle_id, department_id) VALUES (%(product_id)s, %(product_name)s, %(aisle_id)s, %(department_id)s)\n",
      "2020-12-06 14:24:52,404 INFO sqlalchemy.engine.base.Engine ({'product_id': 1501, 'product_name': 'Mexican Blend', 'aisle_id': 104, 'department_id': 13}, {'product_id': 1502, 'product_name': 'Acai Berry Lip Balm', 'aisle_id': 132, 'department_id': 11}, {'product_id': 1503, 'product_name': 'Low Fat Cottage Cheese', 'aisle_id': 108, 'department_id': 16}, {'product_id': 1504, 'product_name': 'Goat Milk Cheese', 'aisle_id': 21, 'department_id': 16}, {'product_id': 1505, 'product_name': 'Zero Calorie Fruit Punch Sports Drink', 'aisle_id': 64, 'department_id': 7}, {'product_id': 1506, 'product_name': 'Sliced Baby Bellas Mushrooms', 'aisle_id': 123, 'department_id': 4}, {'product_id': 1507, 'product_name': 'Positively Radiant Brightening Cleanser', 'aisle_id': 73, 'department_id': 11}, {'product_id': 1508, 'product_name': 'Simply Delicious Gluten-Free Blissfully Berry Cereal', 'aisle_id': 121, 'department_id': 14}  ... displaying 10 of 50 total bound parameter sets ...  {'product_id': 1549, 'product_name': 'Fragrance Free Original For Dry & Sensitive Skin Lotion', 'aisle_id': 127, 'department_id': 11}, {'product_id': 1550, 'product_name': 'Mini Slant Pocket Tweezer', 'aisle_id': 132, 'department_id': 11})\n",
      "2020-12-06 14:24:52,414 INFO sqlalchemy.engine.base.Engine INSERT INTO rc25g.products (product_id, product_name, aisle_id, department_id) VALUES (%(product_id)s, %(product_name)s, %(aisle_id)s, %(department_id)s)\n",
      "2020-12-06 14:24:52,415 INFO sqlalchemy.engine.base.Engine ({'product_id': 1551, 'product_name': 'Nutri Grain Apple Cinnamon Harvest Bars', 'aisle_id': 48, 'department_id': 14}, {'product_id': 1552, 'product_name': 'Nibs Cherry Candy', 'aisle_id': 45, 'department_id': 19}, {'product_id': 1553, 'product_name': 'Seriously Sharp Cheddar Cheese Block', 'aisle_id': 21, 'department_id': 16}, {'product_id': 1554, 'product_name': 'Salt Free Taco Seasoning Mix', 'aisle_id': 5, 'department_id': 13}, {'product_id': 1555, 'product_name': 'Pierogi Potato & Cheddar', 'aisle_id': 129, 'department_id': 1}, {'product_id': 1556, 'product_name': 'Wild Rice', 'aisle_id': 63, 'department_id': 9}, {'product_id': 1557, 'product_name': 'Lite Blue Cheese Dressing', 'aisle_id': 89, 'department_id': 13}, {'product_id': 1558, 'product_name': 'Beef Empanadas', 'aisle_id': 13, 'department_id': 20}  ... displaying 10 of 50 total bound parameter sets ...  {'product_id': 1599, 'product_name': 'Cottonelle Fresh Care Flushable Cleansing Cloths', 'aisle_id': 54, 'department_id': 17}, {'product_id': 1600, 'product_name': 'Mediterranean Orzo Salad', 'aisle_id': 1, 'department_id': 20})\n",
      "2020-12-06 14:24:52,425 INFO sqlalchemy.engine.base.Engine INSERT INTO rc25g.products (product_id, product_name, aisle_id, department_id) VALUES (%(product_id)s, %(product_name)s, %(aisle_id)s, %(department_id)s)\n",
      "2020-12-06 14:24:52,426 INFO sqlalchemy.engine.base.Engine ({'product_id': 1601, 'product_name': 'Loofah Body Scrubber', 'aisle_id': 25, 'department_id': 11}, {'product_id': 1602, 'product_name': 'Death By Lavender Deodorant', 'aisle_id': 80, 'department_id': 11}, {'product_id': 1603, 'product_name': 'Chocolate Fudge Ice Cream Bars', 'aisle_id': 37, 'department_id': 1}, {'product_id': 1604, 'product_name': 'Harmony Travel Tin Candle Pure Lavender', 'aisle_id': 101, 'department_id': 17}, {'product_id': 1605, 'product_name': 'Candy Dish Chocolate Assortment Candy Miniatures', 'aisle_id': 45, 'department_id': 19}, {'product_id': 1606, 'product_name': 'Yogurt, Coconut Non-Dairy, Low Fat, Blueberry', 'aisle_id': 120, 'department_id': 16}, {'product_id': 1607, 'product_name': 'English Peas Pack', 'aisle_id': 123, 'department_id': 4}, {'product_id': 1608, 'product_name': 'Disney Frozen Graham Crackers', 'aisle_id': 61, 'department_id': 19}  ... displaying 10 of 50 total bound parameter sets ...  {'product_id': 1649, 'product_name': 'Pretzel Snaps Bonus Bag', 'aisle_id': 107, 'department_id': 19}, {'product_id': 1650, 'product_name': 'Simply Sensitive Cleansing Cloths', 'aisle_id': 126, 'department_id': 11})\n",
      "2020-12-06 14:24:52,437 INFO sqlalchemy.engine.base.Engine INSERT INTO rc25g.products (product_id, product_name, aisle_id, department_id) VALUES (%(product_id)s, %(product_name)s, %(aisle_id)s, %(department_id)s)\n",
      "2020-12-06 14:24:52,437 INFO sqlalchemy.engine.base.Engine ({'product_id': 1651, 'product_name': 'Go Bites Chocolate Graham Crackers', 'aisle_id': 78, 'department_id': 19}, {'product_id': 1652, 'product_name': 'Marinara with Burgundy Wine', 'aisle_id': 9, 'department_id': 9}, {'product_id': 1653, 'product_name': 'Organic Nibbly Fingers Stage 3 Bananas & Raisins', 'aisle_id': 92, 'department_id': 18}, {'product_id': 1654, 'product_name': 'Black Truffle', 'aisle_id': 45, 'department_id': 19}, {'product_id': 1655, 'product_name': 'Moderate Absorbency for Women  Underwear Large', 'aisle_id': 6, 'department_id': 2}, {'product_id': 1656, 'product_name': 'Gentle Cleansing Milk', 'aisle_id': 73, 'department_id': 11}, {'product_id': 1657, 'product_name': 'Kale & Quinoa Bites', 'aisle_id': 50, 'department_id': 19}, {'product_id': 1658, 'product_name': 'Double Superfine Mustard Powder, Original English', 'aisle_id': 104, 'department_id': 13}  ... displaying 10 of 50 total bound parameter sets ...  {'product_id': 1699, 'product_name': 'Jumilla Red Wine', 'aisle_id': 28, 'department_id': 5}, {'product_id': 1700, 'product_name': 'White Cheddar Popcorn', 'aisle_id': 23, 'department_id': 19})\n",
      "2020-12-06 14:24:52,447 INFO sqlalchemy.engine.base.Engine INSERT INTO rc25g.products (product_id, product_name, aisle_id, department_id) VALUES (%(product_id)s, %(product_name)s, %(aisle_id)s, %(department_id)s)\n",
      "2020-12-06 14:24:52,448 INFO sqlalchemy.engine.base.Engine ({'product_id': 1701, 'product_name': 'Blarney Castle Smooth & Mild Gouda Style Cheese', 'aisle_id': 2, 'department_id': 16}, {'product_id': 1702, 'product_name': 'Original Coconut Milk', 'aisle_id': 91, 'department_id': 16}, {'product_id': 1703, 'product_name': 'Umeboshi Paste', 'aisle_id': 66, 'department_id': 6}, {'product_id': 1704, 'product_name': '100% Pure U.S. Honey', 'aisle_id': 29, 'department_id': 13}, {'product_id': 1705, 'product_name': 'Disney Frozen Fruit Flavored Snacks', 'aisle_id': 50, 'department_id': 19}, {'product_id': 1706, 'product_name': 'Reduced Sodium Worcestershire Sauce', 'aisle_id': 72, 'department_id': 13}, {'product_id': 1707, 'product_name': '3D White Foaming Clean Whitening Toothpaste', 'aisle_id': 20, 'department_id': 11}, {'product_id': 1708, 'product_name': 'Dish Washer Liquid Detergent', 'aisle_id': 114, 'department_id': 17}  ... displaying 10 of 50 total bound parameter sets ...  {'product_id': 1749, 'product_name': 'Organic Letter of the Day Oatmeal Cinnamon Cookies', 'aisle_id': 92, 'department_id': 18}, {'product_id': 1750, 'product_name': 'Simply Pure Hazelnut Coffee Creamer', 'aisle_id': 53, 'department_id': 16})\n",
      "2020-12-06 14:24:52,458 INFO sqlalchemy.engine.base.Engine INSERT INTO rc25g.products (product_id, product_name, aisle_id, department_id) VALUES (%(product_id)s, %(product_name)s, %(aisle_id)s, %(department_id)s)\n",
      "2020-12-06 14:24:52,459 INFO sqlalchemy.engine.base.Engine ({'product_id': 1751, 'product_name': 'Organic Orange Juice Concentrate', 'aisle_id': 113, 'department_id': 1}, {'product_id': 1752, 'product_name': 'Mango Sorbet', 'aisle_id': 37, 'department_id': 1}, {'product_id': 1753, 'product_name': 'Water Flosser Cordless', 'aisle_id': 20, 'department_id': 11}, {'product_id': 1754, 'product_name': 'Folic Acid 400 Mcg', 'aisle_id': 47, 'department_id': 11}, {'product_id': 1755, 'product_name': 'Dark Morning Joe Ground Coffee', 'aisle_id': 26, 'department_id': 7}, {'product_id': 1756, 'product_name': 'Hawaiian Dinner Rolls', 'aisle_id': 43, 'department_id': 3}, {'product_id': 1757, 'product_name': 'Organic Cashew Carrot Ginger Soup', 'aisle_id': 69, 'department_id': 15}, {'product_id': 1758, 'product_name': 'Organic Clover Blossom Honey', 'aisle_id': 29, 'department_id': 13}  ... displaying 10 of 50 total bound parameter sets ...  {'product_id': 1799, 'product_name': 'Madagascar Vanilla Gelato Bars', 'aisle_id': 37, 'department_id': 1}, {'product_id': 1800, 'product_name': \"3F Mixed Carrots Corn & Butternut Squash with Lil' Bits Purees Vegetable\", 'aisle_id': 92, 'department_id': 18})\n"
     ]
    },
    {
     "name": "stdout",
     "output_type": "stream",
     "text": [
      "2020-12-06 14:24:52,470 INFO sqlalchemy.engine.base.Engine INSERT INTO rc25g.products (product_id, product_name, aisle_id, department_id) VALUES (%(product_id)s, %(product_name)s, %(aisle_id)s, %(department_id)s)\n",
      "2020-12-06 14:24:52,471 INFO sqlalchemy.engine.base.Engine ({'product_id': 1801, 'product_name': 'Pomegranate Blueberry Pistachio Plus Antioxidants 1.4 oz Fruit & Nut Bars', 'aisle_id': 3, 'department_id': 19}, {'product_id': 1802, 'product_name': 'Vitamin C-500 mg Tablets', 'aisle_id': 47, 'department_id': 11}, {'product_id': 1803, 'product_name': 'Original Bagel Crisps Roasted Garlic', 'aisle_id': 107, 'department_id': 19}, {'product_id': 1804, 'product_name': 'Baked White Cheddar Cheese Puffs', 'aisle_id': 107, 'department_id': 19}, {'product_id': 1805, 'product_name': 'Organic Lemon Agave Ginger Super Juice', 'aisle_id': 98, 'department_id': 7}, {'product_id': 1806, 'product_name': 'Strawberry Unsweetened Soft Drink Mix', 'aisle_id': 90, 'department_id': 7}, {'product_id': 1807, 'product_name': 'Celery Seed', 'aisle_id': 104, 'department_id': 13}, {'product_id': 1808, 'product_name': 'Champagne', 'aisle_id': 134, 'department_id': 5}  ... displaying 10 of 50 total bound parameter sets ...  {'product_id': 1849, 'product_name': 'Ultra Fine Mist Aerosol Hairspray', 'aisle_id': 22, 'department_id': 11}, {'product_id': 1850, 'product_name': 'Lasagna Bake with Meat Sauce', 'aisle_id': 38, 'department_id': 1})\n",
      "2020-12-06 14:24:52,481 INFO sqlalchemy.engine.base.Engine INSERT INTO rc25g.products (product_id, product_name, aisle_id, department_id) VALUES (%(product_id)s, %(product_name)s, %(aisle_id)s, %(department_id)s)\n",
      "2020-12-06 14:24:52,481 INFO sqlalchemy.engine.base.Engine ({'product_id': 1851, 'product_name': 'Mozzarella & Cheddar Cheese Twists Natural Cheese Snacks', 'aisle_id': 21, 'department_id': 16}, {'product_id': 1852, 'product_name': 'Chef Blends Shredded 4 State Cheddar Cheese', 'aisle_id': 21, 'department_id': 16}, {'product_id': 1853, 'product_name': 'Fabric Softener Dryer Sheets, Outdoor Fresh scent', 'aisle_id': 75, 'department_id': 17}, {'product_id': 1854, 'product_name': 'Pineapple Slices In Heavy Syrup', 'aisle_id': 99, 'department_id': 15}, {'product_id': 1855, 'product_name': '1% Hydrocortisone Anti-Itch Cream, Tube Anti-Itch', 'aisle_id': 118, 'department_id': 11}, {'product_id': 1856, 'product_name': 'HPA Lanolin', 'aisle_id': 82, 'department_id': 18}, {'product_id': 1857, 'product_name': 'Melon Liqueur', 'aisle_id': 124, 'department_id': 5}, {'product_id': 1858, 'product_name': 'Toilet Bowl Cleaner Manual Fresh Scent', 'aisle_id': 114, 'department_id': 17}  ... displaying 10 of 50 total bound parameter sets ...  {'product_id': 1899, 'product_name': 'Mini Carrots Bunch', 'aisle_id': 83, 'department_id': 4}, {'product_id': 1900, 'product_name': 'Bath Laponge', 'aisle_id': 127, 'department_id': 11})\n",
      "2020-12-06 14:24:52,492 INFO sqlalchemy.engine.base.Engine INSERT INTO rc25g.products (product_id, product_name, aisle_id, department_id) VALUES (%(product_id)s, %(product_name)s, %(aisle_id)s, %(department_id)s)\n",
      "2020-12-06 14:24:52,492 INFO sqlalchemy.engine.base.Engine ({'product_id': 1901, 'product_name': 'Meringue Powder', 'aisle_id': 17, 'department_id': 13}, {'product_id': 1902, 'product_name': 'Cookie Core Boom Chocolatta! Ice Cream', 'aisle_id': 37, 'department_id': 1}, {'product_id': 1903, 'product_name': 'Chicken Noodle with Vegetables Soup', 'aisle_id': 69, 'department_id': 15}, {'product_id': 1904, 'product_name': '4 Pull-Apart Dipping Strips Pepperoni with Marinara Dipping Sauce Packet', 'aisle_id': 79, 'department_id': 1}, {'product_id': 1905, 'product_name': 'Worcestershire Sauce', 'aisle_id': 72, 'department_id': 13}, {'product_id': 1906, 'product_name': 'Toothpaste, Fluoride-Free, Propolis & Myrrh, Fennel', 'aisle_id': 20, 'department_id': 11}, {'product_id': 1907, 'product_name': 'Kiwi Spinach Peas & Green Apple', 'aisle_id': 92, 'department_id': 18}, {'product_id': 1908, 'product_name': 'Greek Blended Cherry Fat Free Yogurt', 'aisle_id': 120, 'department_id': 16}  ... displaying 10 of 50 total bound parameter sets ...  {'product_id': 1949, 'product_name': 'Amish Blue Cheese Wedge', 'aisle_id': 21, 'department_id': 16}, {'product_id': 1950, 'product_name': 'Low Sugar Strawberry Preserves', 'aisle_id': 88, 'department_id': 13})\n",
      "2020-12-06 14:24:52,502 INFO sqlalchemy.engine.base.Engine INSERT INTO rc25g.products (product_id, product_name, aisle_id, department_id) VALUES (%(product_id)s, %(product_name)s, %(aisle_id)s, %(department_id)s)\n",
      "2020-12-06 14:24:52,503 INFO sqlalchemy.engine.base.Engine ({'product_id': 1951, 'product_name': 'La Cubana Meal', 'aisle_id': 13, 'department_id': 20}, {'product_id': 1952, 'product_name': 'Pure Leaf Tea Unsweetened', 'aisle_id': 94, 'department_id': 7}, {'product_id': 1953, 'product_name': 'Crispy Onions Garlic Pepper', 'aisle_id': 89, 'department_id': 13}, {'product_id': 1954, 'product_name': 'Goat Cheese Pyramid', 'aisle_id': 2, 'department_id': 16}, {'product_id': 1955, 'product_name': '12 Ounce Plastic Bowls', 'aisle_id': 111, 'department_id': 17}, {'product_id': 1956, 'product_name': 'Scallions', 'aisle_id': 83, 'department_id': 4}, {'product_id': 1957, 'product_name': 'Fabric Softener Dryer Sheet Outdoor Fresh 160CT Fabric Enhancers', 'aisle_id': 75, 'department_id': 17}, {'product_id': 1958, 'product_name': 'Green Pepper Sauce', 'aisle_id': 72, 'department_id': 13}  ... displaying 10 of 50 total bound parameter sets ...  {'product_id': 1999, 'product_name': 'Organic Chicken Broth', 'aisle_id': 69, 'department_id': 15}, {'product_id': 2000, 'product_name': 'Premium White Chicken Breast Chunks', 'aisle_id': 95, 'department_id': 15})\n",
      "2020-12-06 14:24:52,513 INFO sqlalchemy.engine.base.Engine INSERT INTO rc25g.products (product_id, product_name, aisle_id, department_id) VALUES (%(product_id)s, %(product_name)s, %(aisle_id)s, %(department_id)s)\n",
      "2020-12-06 14:24:52,513 INFO sqlalchemy.engine.base.Engine ({'product_id': 2001, 'product_name': 'Casareccia', 'aisle_id': 131, 'department_id': 9}, {'product_id': 2002, 'product_name': 'The \\\\\"World\\'s Best\\\\\" Veggie Burger', 'aisle_id': 42, 'department_id': 1}, {'product_id': 2003, 'product_name': 'Easy Open Cap Ibuprofen', 'aisle_id': 133, 'department_id': 11}, {'product_id': 2004, 'product_name': 'Calcium Gummies', 'aisle_id': 47, 'department_id': 11}, {'product_id': 2005, 'product_name': 'Fresh Ground Turkey Breast', 'aisle_id': 35, 'department_id': 12}, {'product_id': 2006, 'product_name': 'Creme Face Hair Remover Kit', 'aisle_id': 55, 'department_id': 11}, {'product_id': 2007, 'product_name': 'Honeysuckle Liquid Soap for Hand & Body', 'aisle_id': 25, 'department_id': 11}, {'product_id': 2008, 'product_name': 'Apple, Carrot, & Spinach Super Smoothie', 'aisle_id': 92, 'department_id': 18}  ... displaying 10 of 50 total bound parameter sets ...  {'product_id': 2049, 'product_name': 'Malbec Mendoza', 'aisle_id': 28, 'department_id': 5}, {'product_id': 2050, 'product_name': 'Organic Berry Basket Blend', 'aisle_id': 116, 'department_id': 1})\n",
      "2020-12-06 14:24:52,525 INFO sqlalchemy.engine.base.Engine INSERT INTO rc25g.products (product_id, product_name, aisle_id, department_id) VALUES (%(product_id)s, %(product_name)s, %(aisle_id)s, %(department_id)s)\n",
      "2020-12-06 14:24:52,525 INFO sqlalchemy.engine.base.Engine ({'product_id': 2051, 'product_name': 'Sunrise Crunchy Honey Cereal', 'aisle_id': 121, 'department_id': 14}, {'product_id': 2052, 'product_name': 'Potato Chips, Organic, Sea Salt', 'aisle_id': 107, 'department_id': 19}, {'product_id': 2053, 'product_name': 'Organic Ground Coriander', 'aisle_id': 104, 'department_id': 13}, {'product_id': 2054, 'product_name': 'Belgium Beer', 'aisle_id': 27, 'department_id': 5}, {'product_id': 2055, 'product_name': 'Baby Cut Carrots Snack Size Bags', 'aisle_id': 123, 'department_id': 4}, {'product_id': 2056, 'product_name': 'Beef Sirloin Tip Roast', 'aisle_id': 6, 'department_id': 2}, {'product_id': 2057, 'product_name': 'Reduced Fat Swiss Deli-Thin Slices Cheese', 'aisle_id': 21, 'department_id': 16}, {'product_id': 2058, 'product_name': '4# Bag Navel Oranges', 'aisle_id': 123, 'department_id': 4}  ... displaying 10 of 50 total bound parameter sets ...  {'product_id': 2099, 'product_name': 'Natural Cane Turbinado Sugar', 'aisle_id': 17, 'department_id': 13}, {'product_id': 2100, 'product_name': 'Ultra Fusion Clean Lime Dish Detergent', 'aisle_id': 74, 'department_id': 17})\n"
     ]
    },
    {
     "name": "stdout",
     "output_type": "stream",
     "text": [
      "2020-12-06 14:24:52,534 INFO sqlalchemy.engine.base.Engine INSERT INTO rc25g.products (product_id, product_name, aisle_id, department_id) VALUES (%(product_id)s, %(product_name)s, %(aisle_id)s, %(department_id)s)\n",
      "2020-12-06 14:24:52,535 INFO sqlalchemy.engine.base.Engine ({'product_id': 2101, 'product_name': 'Chicken & Mushroom Aussie Pies', 'aisle_id': 38, 'department_id': 1}, {'product_id': 2102, 'product_name': 'Hash Browns Country Style', 'aisle_id': 52, 'department_id': 1}, {'product_id': 2103, 'product_name': 'ProteinPLUS Multigrain Penne Pasta', 'aisle_id': 131, 'department_id': 9}, {'product_id': 2104, 'product_name': 'Healthy Kitten Formula Dry Cat Food', 'aisle_id': 41, 'department_id': 8}, {'product_id': 2105, 'product_name': 'Salted Caramel Chocolate Cookie Dough', 'aisle_id': 105, 'department_id': 13}, {'product_id': 2106, 'product_name': 'Earl Grey Decaffeinated Black Tea', 'aisle_id': 94, 'department_id': 7}, {'product_id': 2107, 'product_name': 'Caramel Apple Filled Hard Candies', 'aisle_id': 45, 'department_id': 19}, {'product_id': 2108, 'product_name': 'Pastured Eggs', 'aisle_id': 86, 'department_id': 16}  ... displaying 10 of 50 total bound parameter sets ...  {'product_id': 2149, 'product_name': 'Organic Vanilla Nut Herbal Coffee Alternative', 'aisle_id': 26, 'department_id': 7}, {'product_id': 2150, 'product_name': 'Sauvignon Blanc, Mendocino, 2007', 'aisle_id': 62, 'department_id': 5})\n",
      "2020-12-06 14:24:52,545 INFO sqlalchemy.engine.base.Engine INSERT INTO rc25g.products (product_id, product_name, aisle_id, department_id) VALUES (%(product_id)s, %(product_name)s, %(aisle_id)s, %(department_id)s)\n",
      "2020-12-06 14:24:52,546 INFO sqlalchemy.engine.base.Engine ({'product_id': 2151, 'product_name': 'Classic Vanilla Ice Cream Sandwiches', 'aisle_id': 37, 'department_id': 1}, {'product_id': 2152, 'product_name': 'Ultra Calming Makeup Removing Wipes', 'aisle_id': 127, 'department_id': 11}, {'product_id': 2153, 'product_name': 'Sunflower Seed Bread', 'aisle_id': 112, 'department_id': 3}, {'product_id': 2154, 'product_name': 'Homestyle Savory Chicken Bone Broth', 'aisle_id': 69, 'department_id': 15}, {'product_id': 2155, 'product_name': 'Beauty Balm, All in One, Sheer Tint, with SPF 30', 'aisle_id': 109, 'department_id': 11}, {'product_id': 2156, 'product_name': '100% Organic Taco Seasoning', 'aisle_id': 104, 'department_id': 13}, {'product_id': 2157, 'product_name': 'Detailer 2-Sided Shower Tool', 'aisle_id': 127, 'department_id': 11}, {'product_id': 2158, 'product_name': '#2 Cone White Coffee Filters', 'aisle_id': 26, 'department_id': 7}  ... displaying 10 of 50 total bound parameter sets ...  {'product_id': 2199, 'product_name': 'The Best Lip Balm Ever', 'aisle_id': 132, 'department_id': 11}, {'product_id': 2200, 'product_name': 'Grape Licorice Twists', 'aisle_id': 45, 'department_id': 19})\n",
      "2020-12-06 14:24:52,558 INFO sqlalchemy.engine.base.Engine INSERT INTO rc25g.products (product_id, product_name, aisle_id, department_id) VALUES (%(product_id)s, %(product_name)s, %(aisle_id)s, %(department_id)s)\n",
      "2020-12-06 14:24:52,558 INFO sqlalchemy.engine.base.Engine ({'product_id': 2201, 'product_name': 'Stainless Steel Scrubbing Pads', 'aisle_id': 114, 'department_id': 17}, {'product_id': 2202, 'product_name': '98% Fat Free Condensed Soup Cream of Chicken', 'aisle_id': 69, 'department_id': 15}, {'product_id': 2203, 'product_name': 'Mixed Fruit In Light Syrup', 'aisle_id': 99, 'department_id': 15}, {'product_id': 2204, 'product_name': 'Milk Chocolate Dipped Marshmallows - 3 CT', 'aisle_id': 45, 'department_id': 19}, {'product_id': 2205, 'product_name': '3D White Arctic Fresh Toothpaste', 'aisle_id': 17, 'department_id': 13}, {'product_id': 2206, 'product_name': 'Crunch Mixed Nuts & White Chocolate Bar', 'aisle_id': 3, 'department_id': 19}, {'product_id': 2207, 'product_name': 'Livewire Soda', 'aisle_id': 77, 'department_id': 7}, {'product_id': 2208, 'product_name': 'Granola With Raisins', 'aisle_id': 121, 'department_id': 14}  ... displaying 10 of 50 total bound parameter sets ...  {'product_id': 2249, 'product_name': 'Powdered Grape Drink Mix', 'aisle_id': 90, 'department_id': 7}, {'product_id': 2250, 'product_name': 'Milk Chocolate Giant Candy Bar', 'aisle_id': 45, 'department_id': 19})\n",
      "2020-12-06 14:24:52,568 INFO sqlalchemy.engine.base.Engine INSERT INTO rc25g.products (product_id, product_name, aisle_id, department_id) VALUES (%(product_id)s, %(product_name)s, %(aisle_id)s, %(department_id)s)\n",
      "2020-12-06 14:24:52,569 INFO sqlalchemy.engine.base.Engine ({'product_id': 2251, 'product_name': 'Ruby Port', 'aisle_id': 134, 'department_id': 5}, {'product_id': 2252, 'product_name': 'Body Oil Fragrance-Free', 'aisle_id': 127, 'department_id': 11}, {'product_id': 2253, 'product_name': 'Craisins Dried Cranberries Cherry Juice Infused', 'aisle_id': 117, 'department_id': 19}, {'product_id': 2254, 'product_name': 'Chocolate Laurel Ice Cream', 'aisle_id': 37, 'department_id': 1}, {'product_id': 2255, 'product_name': 'Sesame Oil, Unrefined', 'aisle_id': 19, 'department_id': 13}, {'product_id': 2256, 'product_name': 'Tissue Plus Lotion', 'aisle_id': 54, 'department_id': 17}, {'product_id': 2257, 'product_name': 'Plus Antibiotic Brand Adhesive Bandages', 'aisle_id': 118, 'department_id': 11}, {'product_id': 2258, 'product_name': 'Walnut Chocolate Chip Cookie Dough', 'aisle_id': 105, 'department_id': 13}  ... displaying 10 of 50 total bound parameter sets ...  {'product_id': 2299, 'product_name': 'Chocolate Chip Peanut Butter Creamie', 'aisle_id': 8, 'department_id': 3}, {'product_id': 2300, 'product_name': 'Cafe Steamers Rosemary Chicken & Sweet Potatoes', 'aisle_id': 38, 'department_id': 1})\n",
      "2020-12-06 14:24:52,586 INFO sqlalchemy.engine.base.Engine INSERT INTO rc25g.products (product_id, product_name, aisle_id, department_id) VALUES (%(product_id)s, %(product_name)s, %(aisle_id)s, %(department_id)s)\n",
      "2020-12-06 14:24:52,586 INFO sqlalchemy.engine.base.Engine ({'product_id': 2301, 'product_name': 'Beef Loin Porterhouse Steak', 'aisle_id': 122, 'department_id': 12}, {'product_id': 2302, 'product_name': 'Cheddar + Roasted Tomato Baked Potato Chips', 'aisle_id': 107, 'department_id': 19}, {'product_id': 2303, 'product_name': 'Non Scratch Dishwand Refills', 'aisle_id': 114, 'department_id': 17}, {'product_id': 2304, 'product_name': 'Vanilla Frozen Dairy Dessert Sandwiches', 'aisle_id': 37, 'department_id': 1}, {'product_id': 2305, 'product_name': 'Baby Persian Cucumbers', 'aisle_id': 123, 'department_id': 4}, {'product_id': 2306, 'product_name': 'VentAire Wide Bottle', 'aisle_id': 82, 'department_id': 18}, {'product_id': 2307, 'product_name': 'Pro-Health All-In-One Medium Toothbrushes', 'aisle_id': 20, 'department_id': 11}, {'product_id': 2308, 'product_name': 'Bubblemint Gum', 'aisle_id': 46, 'department_id': 19}  ... displaying 10 of 50 total bound parameter sets ...  {'product_id': 2349, 'product_name': 'Pull Ups Girls Learning Designs Training Pants', 'aisle_id': 56, 'department_id': 18}, {'product_id': 2350, 'product_name': '60% Cacao Bittersweet Premium Baking Chips', 'aisle_id': 17, 'department_id': 13})\n",
      "2020-12-06 14:24:52,598 INFO sqlalchemy.engine.base.Engine INSERT INTO rc25g.products (product_id, product_name, aisle_id, department_id) VALUES (%(product_id)s, %(product_name)s, %(aisle_id)s, %(department_id)s)\n",
      "2020-12-06 14:24:52,599 INFO sqlalchemy.engine.base.Engine ({'product_id': 2351, 'product_name': 'Sugar Free Whipped Topping', 'aisle_id': 119, 'department_id': 1}, {'product_id': 2352, 'product_name': 'Canine Cuisine with Lamb in Meaty Juices', 'aisle_id': 40, 'department_id': 8}, {'product_id': 2353, 'product_name': 'Multivitamin, Kids Complete, Gummies', 'aisle_id': 6, 'department_id': 2}, {'product_id': 2354, 'product_name': 'Sage Deodorant', 'aisle_id': 80, 'department_id': 11}, {'product_id': 2355, 'product_name': 'Cushioned Nail Board', 'aisle_id': 132, 'department_id': 11}, {'product_id': 2356, 'product_name': 'Sponge Bob Square Pants Fruit Snacks', 'aisle_id': 50, 'department_id': 19}, {'product_id': 2357, 'product_name': 'Elbows Enriched Macaroni Product', 'aisle_id': 131, 'department_id': 9}, {'product_id': 2358, 'product_name': 'Nourish & Volume Conditioner', 'aisle_id': 22, 'department_id': 11}  ... displaying 10 of 50 total bound parameter sets ...  {'product_id': 2399, 'product_name': 'Organic Enchilada Red Sauce Medium', 'aisle_id': 72, 'department_id': 13}, {'product_id': 2400, 'product_name': '100% Pure Evening Primrose Oil', 'aisle_id': 47, 'department_id': 11})\n"
     ]
    },
    {
     "name": "stdout",
     "output_type": "stream",
     "text": [
      "2020-12-06 14:24:52,610 INFO sqlalchemy.engine.base.Engine INSERT INTO rc25g.products (product_id, product_name, aisle_id, department_id) VALUES (%(product_id)s, %(product_name)s, %(aisle_id)s, %(department_id)s)\n",
      "2020-12-06 14:24:52,611 INFO sqlalchemy.engine.base.Engine ({'product_id': 2401, 'product_name': 'Organic Milk Chocolate Baking Wafers', 'aisle_id': 17, 'department_id': 13}, {'product_id': 2402, 'product_name': 'Beef Lo Mein', 'aisle_id': 38, 'department_id': 1}, {'product_id': 2403, 'product_name': 'Almond Butter, Vanilla Espresso', 'aisle_id': 88, 'department_id': 13}, {'product_id': 2404, 'product_name': 'Tamari Roasted Pumpkin Seeds', 'aisle_id': 6, 'department_id': 2}, {'product_id': 2405, 'product_name': 'Organic Just Pears Sage 1 Baby Food', 'aisle_id': 92, 'department_id': 18}, {'product_id': 2406, 'product_name': 'Pure Zero', 'aisle_id': 64, 'department_id': 7}, {'product_id': 2407, 'product_name': 'Mild Smoked Snack Sticks', 'aisle_id': 23, 'department_id': 19}, {'product_id': 2408, 'product_name': 'Feta Crumbled Traditional Cheese', 'aisle_id': 21, 'department_id': 16}  ... displaying 10 of 50 total bound parameter sets ...  {'product_id': 2449, 'product_name': 'Tri Fun Pack Fruit Loops, Cocoa Krispies; Apple Jacks', 'aisle_id': 121, 'department_id': 14}, {'product_id': 2450, 'product_name': 'Taco Seasoning', 'aisle_id': 30, 'department_id': 6})\n",
      "2020-12-06 14:24:52,621 INFO sqlalchemy.engine.base.Engine INSERT INTO rc25g.products (product_id, product_name, aisle_id, department_id) VALUES (%(product_id)s, %(product_name)s, %(aisle_id)s, %(department_id)s)\n",
      "2020-12-06 14:24:52,622 INFO sqlalchemy.engine.base.Engine ({'product_id': 2451, 'product_name': 'Toasty Crackers Peanut Butter Sandwich Crackers', 'aisle_id': 78, 'department_id': 19}, {'product_id': 2452, 'product_name': 'Naturals Chicken Nuggets', 'aisle_id': 129, 'department_id': 1}, {'product_id': 2453, 'product_name': 'Greek Style Kefir', 'aisle_id': 120, 'department_id': 16}, {'product_id': 2454, 'product_name': 'Herbal Daily Cleansing Shampoo', 'aisle_id': 22, 'department_id': 11}, {'product_id': 2455, 'product_name': 'Aromatherapaes Uplifting Energy Tangerine & Peppermint Spa Bath', 'aisle_id': 127, 'department_id': 11}, {'product_id': 2456, 'product_name': 'Clump & Seal Multi-Cat Cat Litter', 'aisle_id': 41, 'department_id': 8}, {'product_id': 2457, 'product_name': 'Variety Tea', 'aisle_id': 94, 'department_id': 7}, {'product_id': 2458, 'product_name': 'Peppermint Gum', 'aisle_id': 46, 'department_id': 19}  ... displaying 10 of 50 total bound parameter sets ...  {'product_id': 2499, 'product_name': 'Albacore Tuna in Yellow Coconut Curry', 'aisle_id': 66, 'department_id': 6}, {'product_id': 2500, 'product_name': 'Cava', 'aisle_id': 134, 'department_id': 5})\n",
      "2020-12-06 14:24:52,632 INFO sqlalchemy.engine.base.Engine INSERT INTO rc25g.products (product_id, product_name, aisle_id, department_id) VALUES (%(product_id)s, %(product_name)s, %(aisle_id)s, %(department_id)s)\n",
      "2020-12-06 14:24:52,633 INFO sqlalchemy.engine.base.Engine ({'product_id': 2501, 'product_name': 'Bath Effervescents For Sore Muscles', 'aisle_id': 127, 'department_id': 11}, {'product_id': 2502, 'product_name': 'Sundried Tomato & Basil Spreadable Cheese', 'aisle_id': 2, 'department_id': 16}, {'product_id': 2503, 'product_name': 'Usda Prime Beef Top Sirloin Steak', 'aisle_id': 122, 'department_id': 12}, {'product_id': 2504, 'product_name': 'Bread, Watsonville Sourdough', 'aisle_id': 112, 'department_id': 3}, {'product_id': 2505, 'product_name': 'Grill Shakers Steak Seasoning Blend', 'aisle_id': 104, 'department_id': 13}, {'product_id': 2506, 'product_name': 'Fig Bars Multigrain', 'aisle_id': 61, 'department_id': 19}, {'product_id': 2507, 'product_name': 'Savory Garlic & Herb Jack Snack Cheese', 'aisle_id': 100, 'department_id': 21}, {'product_id': 2508, 'product_name': 'The Complete Cookie White Chocolate Macadamia', 'aisle_id': 61, 'department_id': 19}  ... displaying 10 of 50 total bound parameter sets ...  {'product_id': 2549, 'product_name': 'Light Buttery Spread', 'aisle_id': 36, 'department_id': 16}, {'product_id': 2550, 'product_name': 'Bio Active 20+ Manuka Honey', 'aisle_id': 29, 'department_id': 13})\n",
      "2020-12-06 14:24:52,644 INFO sqlalchemy.engine.base.Engine INSERT INTO rc25g.products (product_id, product_name, aisle_id, department_id) VALUES (%(product_id)s, %(product_name)s, %(aisle_id)s, %(department_id)s)\n",
      "2020-12-06 14:24:52,644 INFO sqlalchemy.engine.base.Engine ({'product_id': 2551, 'product_name': 'Butterscotch Pudding Snacks', 'aisle_id': 71, 'department_id': 16}, {'product_id': 2552, 'product_name': 'Organic Raw Pomegranate Kombucha', 'aisle_id': 94, 'department_id': 7}, {'product_id': 2553, 'product_name': 'Rosemary Flatbread Kamut', 'aisle_id': 78, 'department_id': 19}, {'product_id': 2554, 'product_name': 'Snacking Lupini Beans Hot Pepper', 'aisle_id': 100, 'department_id': 21}, {'product_id': 2555, 'product_name': 'Bread Bohemian Style Rye Unseeded', 'aisle_id': 112, 'department_id': 3}, {'product_id': 2556, 'product_name': 'Yellow Mustard', 'aisle_id': 72, 'department_id': 13}, {'product_id': 2557, 'product_name': 'Touch Of Phlly Shredded Sharp Cheddar Cheese', 'aisle_id': 100, 'department_id': 21}, {'product_id': 2558, 'product_name': 'Organic & Fair Trade Green Tea with Jasmine Bags', 'aisle_id': 94, 'department_id': 7}  ... displaying 10 of 50 total bound parameter sets ...  {'product_id': 2599, 'product_name': 'Organic Garden Vegetables with Herbs Soup', 'aisle_id': 69, 'department_id': 15}, {'product_id': 2600, 'product_name': 'Sugarfree Mint Flavor Gum', 'aisle_id': 46, 'department_id': 19})\n",
      "2020-12-06 14:24:52,661 INFO sqlalchemy.engine.base.Engine ROLLBACK\n"
     ]
    },
    {
     "ename": "DataError",
     "evalue": "(psycopg2.errors.StringDataRightTruncation) value too long for type character varying(100)\n\n[SQL: INSERT INTO rc25g.products (product_id, product_name, aisle_id, department_id) VALUES (%(product_id)s, %(product_name)s, %(aisle_id)s, %(department_id)s)]\n[parameters: ({'product_id': 2551, 'product_name': 'Butterscotch Pudding Snacks', 'aisle_id': 71, 'department_id': 16}, {'product_id': 2552, 'product_name': 'Organic Raw Pomegranate Kombucha', 'aisle_id': 94, 'department_id': 7}, {'product_id': 2553, 'product_name': 'Rosemary Flatbread Kamut', 'aisle_id': 78, 'department_id': 19}, {'product_id': 2554, 'product_name': 'Snacking Lupini Beans Hot Pepper', 'aisle_id': 100, 'department_id': 21}, {'product_id': 2555, 'product_name': 'Bread Bohemian Style Rye Unseeded', 'aisle_id': 112, 'department_id': 3}, {'product_id': 2556, 'product_name': 'Yellow Mustard', 'aisle_id': 72, 'department_id': 13}, {'product_id': 2557, 'product_name': 'Touch Of Phlly Shredded Sharp Cheddar Cheese', 'aisle_id': 100, 'department_id': 21}, {'product_id': 2558, 'product_name': 'Organic & Fair Trade Green Tea with Jasmine Bags', 'aisle_id': 94, 'department_id': 7}  ... displaying 10 of 50 total bound parameter sets ...  {'product_id': 2599, 'product_name': 'Organic Garden Vegetables with Herbs Soup', 'aisle_id': 69, 'department_id': 15}, {'product_id': 2600, 'product_name': 'Sugarfree Mint Flavor Gum', 'aisle_id': 46, 'department_id': 19})]\n(Background on this error at: http://sqlalche.me/e/9h9h)",
     "output_type": "error",
     "traceback": [
      "\u001b[0;31m---------------------------------------------------------------------------\u001b[0m",
      "\u001b[0;31mStringDataRightTruncation\u001b[0m                 Traceback (most recent call last)",
      "\u001b[0;32m/opt/conda/lib/python3.7/site-packages/sqlalchemy/engine/base.py\u001b[0m in \u001b[0;36m_execute_context\u001b[0;34m(self, dialect, constructor, statement, parameters, *args)\u001b[0m\n\u001b[1;32m   1223\u001b[0m                     self.dialect.do_executemany(\n\u001b[0;32m-> 1224\u001b[0;31m                         \u001b[0mcursor\u001b[0m\u001b[0;34m,\u001b[0m \u001b[0mstatement\u001b[0m\u001b[0;34m,\u001b[0m \u001b[0mparameters\u001b[0m\u001b[0;34m,\u001b[0m \u001b[0mcontext\u001b[0m\u001b[0;34m\u001b[0m\u001b[0;34m\u001b[0m\u001b[0m\n\u001b[0m\u001b[1;32m   1225\u001b[0m                     )\n",
      "\u001b[0;32m/opt/conda/lib/python3.7/site-packages/sqlalchemy/dialects/postgresql/psycopg2.py\u001b[0m in \u001b[0;36mdo_executemany\u001b[0;34m(self, cursor, statement, parameters, context)\u001b[0m\n\u001b[1;32m    772\u001b[0m         \u001b[0;32melse\u001b[0m\u001b[0;34m:\u001b[0m\u001b[0;34m\u001b[0m\u001b[0;34m\u001b[0m\u001b[0m\n\u001b[0;32m--> 773\u001b[0;31m             \u001b[0mcursor\u001b[0m\u001b[0;34m.\u001b[0m\u001b[0mexecutemany\u001b[0m\u001b[0;34m(\u001b[0m\u001b[0mstatement\u001b[0m\u001b[0;34m,\u001b[0m \u001b[0mparameters\u001b[0m\u001b[0;34m)\u001b[0m\u001b[0;34m\u001b[0m\u001b[0;34m\u001b[0m\u001b[0m\n\u001b[0m\u001b[1;32m    774\u001b[0m \u001b[0;34m\u001b[0m\u001b[0m\n",
      "\u001b[0;31mStringDataRightTruncation\u001b[0m: value too long for type character varying(100)\n",
      "\nThe above exception was the direct cause of the following exception:\n",
      "\u001b[0;31mDataError\u001b[0m                                 Traceback (most recent call last)",
      "\u001b[0;32m<ipython-input-77-ae736f06d1b8>\u001b[0m in \u001b[0;36m<module>\u001b[0;34m\u001b[0m\n\u001b[1;32m      4\u001b[0m           \u001b[0mif_exists\u001b[0m\u001b[0;34m=\u001b[0m\u001b[0;34m'append'\u001b[0m\u001b[0;34m,\u001b[0m\u001b[0;34m\u001b[0m\u001b[0;34m\u001b[0m\u001b[0m\n\u001b[1;32m      5\u001b[0m           \u001b[0mindex\u001b[0m\u001b[0;34m=\u001b[0m\u001b[0;32mFalse\u001b[0m\u001b[0;34m,\u001b[0m\u001b[0;34m\u001b[0m\u001b[0;34m\u001b[0m\u001b[0m\n\u001b[0;32m----> 6\u001b[0;31m           chunksize=50)\n\u001b[0m",
      "\u001b[0;32m/opt/conda/lib/python3.7/site-packages/pandas/core/generic.py\u001b[0m in \u001b[0;36mto_sql\u001b[0;34m(self, name, con, schema, if_exists, index, index_label, chunksize, dtype, method)\u001b[0m\n\u001b[1;32m   2710\u001b[0m             \u001b[0mchunksize\u001b[0m\u001b[0;34m=\u001b[0m\u001b[0mchunksize\u001b[0m\u001b[0;34m,\u001b[0m\u001b[0;34m\u001b[0m\u001b[0;34m\u001b[0m\u001b[0m\n\u001b[1;32m   2711\u001b[0m             \u001b[0mdtype\u001b[0m\u001b[0;34m=\u001b[0m\u001b[0mdtype\u001b[0m\u001b[0;34m,\u001b[0m\u001b[0;34m\u001b[0m\u001b[0;34m\u001b[0m\u001b[0m\n\u001b[0;32m-> 2712\u001b[0;31m             \u001b[0mmethod\u001b[0m\u001b[0;34m=\u001b[0m\u001b[0mmethod\u001b[0m\u001b[0;34m,\u001b[0m\u001b[0;34m\u001b[0m\u001b[0;34m\u001b[0m\u001b[0m\n\u001b[0m\u001b[1;32m   2713\u001b[0m         )\n\u001b[1;32m   2714\u001b[0m \u001b[0;34m\u001b[0m\u001b[0m\n",
      "\u001b[0;32m/opt/conda/lib/python3.7/site-packages/pandas/io/sql.py\u001b[0m in \u001b[0;36mto_sql\u001b[0;34m(frame, name, con, schema, if_exists, index, index_label, chunksize, dtype, method)\u001b[0m\n\u001b[1;32m    516\u001b[0m         \u001b[0mchunksize\u001b[0m\u001b[0;34m=\u001b[0m\u001b[0mchunksize\u001b[0m\u001b[0;34m,\u001b[0m\u001b[0;34m\u001b[0m\u001b[0;34m\u001b[0m\u001b[0m\n\u001b[1;32m    517\u001b[0m         \u001b[0mdtype\u001b[0m\u001b[0;34m=\u001b[0m\u001b[0mdtype\u001b[0m\u001b[0;34m,\u001b[0m\u001b[0;34m\u001b[0m\u001b[0;34m\u001b[0m\u001b[0m\n\u001b[0;32m--> 518\u001b[0;31m         \u001b[0mmethod\u001b[0m\u001b[0;34m=\u001b[0m\u001b[0mmethod\u001b[0m\u001b[0;34m,\u001b[0m\u001b[0;34m\u001b[0m\u001b[0;34m\u001b[0m\u001b[0m\n\u001b[0m\u001b[1;32m    519\u001b[0m     )\n\u001b[1;32m    520\u001b[0m \u001b[0;34m\u001b[0m\u001b[0m\n",
      "\u001b[0;32m/opt/conda/lib/python3.7/site-packages/pandas/io/sql.py\u001b[0m in \u001b[0;36mto_sql\u001b[0;34m(self, frame, name, if_exists, index, index_label, schema, chunksize, dtype, method)\u001b[0m\n\u001b[1;32m   1318\u001b[0m         )\n\u001b[1;32m   1319\u001b[0m         \u001b[0mtable\u001b[0m\u001b[0;34m.\u001b[0m\u001b[0mcreate\u001b[0m\u001b[0;34m(\u001b[0m\u001b[0;34m)\u001b[0m\u001b[0;34m\u001b[0m\u001b[0;34m\u001b[0m\u001b[0m\n\u001b[0;32m-> 1320\u001b[0;31m         \u001b[0mtable\u001b[0m\u001b[0;34m.\u001b[0m\u001b[0minsert\u001b[0m\u001b[0;34m(\u001b[0m\u001b[0mchunksize\u001b[0m\u001b[0;34m,\u001b[0m \u001b[0mmethod\u001b[0m\u001b[0;34m=\u001b[0m\u001b[0mmethod\u001b[0m\u001b[0;34m)\u001b[0m\u001b[0;34m\u001b[0m\u001b[0;34m\u001b[0m\u001b[0m\n\u001b[0m\u001b[1;32m   1321\u001b[0m         \u001b[0;32mif\u001b[0m \u001b[0;32mnot\u001b[0m \u001b[0mname\u001b[0m\u001b[0;34m.\u001b[0m\u001b[0misdigit\u001b[0m\u001b[0;34m(\u001b[0m\u001b[0;34m)\u001b[0m \u001b[0;32mand\u001b[0m \u001b[0;32mnot\u001b[0m \u001b[0mname\u001b[0m\u001b[0;34m.\u001b[0m\u001b[0mislower\u001b[0m\u001b[0;34m(\u001b[0m\u001b[0;34m)\u001b[0m\u001b[0;34m:\u001b[0m\u001b[0;34m\u001b[0m\u001b[0;34m\u001b[0m\u001b[0m\n\u001b[1;32m   1322\u001b[0m             \u001b[0;31m# check for potentially case sensitivity issues (GH7815)\u001b[0m\u001b[0;34m\u001b[0m\u001b[0;34m\u001b[0m\u001b[0;34m\u001b[0m\u001b[0m\n",
      "\u001b[0;32m/opt/conda/lib/python3.7/site-packages/pandas/io/sql.py\u001b[0m in \u001b[0;36minsert\u001b[0;34m(self, chunksize, method)\u001b[0m\n\u001b[1;32m    754\u001b[0m \u001b[0;34m\u001b[0m\u001b[0m\n\u001b[1;32m    755\u001b[0m                 \u001b[0mchunk_iter\u001b[0m \u001b[0;34m=\u001b[0m \u001b[0mzip\u001b[0m\u001b[0;34m(\u001b[0m\u001b[0;34m*\u001b[0m\u001b[0;34m[\u001b[0m\u001b[0marr\u001b[0m\u001b[0;34m[\u001b[0m\u001b[0mstart_i\u001b[0m\u001b[0;34m:\u001b[0m\u001b[0mend_i\u001b[0m\u001b[0;34m]\u001b[0m \u001b[0;32mfor\u001b[0m \u001b[0marr\u001b[0m \u001b[0;32min\u001b[0m \u001b[0mdata_list\u001b[0m\u001b[0;34m]\u001b[0m\u001b[0;34m)\u001b[0m\u001b[0;34m\u001b[0m\u001b[0;34m\u001b[0m\u001b[0m\n\u001b[0;32m--> 756\u001b[0;31m                 \u001b[0mexec_insert\u001b[0m\u001b[0;34m(\u001b[0m\u001b[0mconn\u001b[0m\u001b[0;34m,\u001b[0m \u001b[0mkeys\u001b[0m\u001b[0;34m,\u001b[0m \u001b[0mchunk_iter\u001b[0m\u001b[0;34m)\u001b[0m\u001b[0;34m\u001b[0m\u001b[0;34m\u001b[0m\u001b[0m\n\u001b[0m\u001b[1;32m    757\u001b[0m \u001b[0;34m\u001b[0m\u001b[0m\n\u001b[1;32m    758\u001b[0m     def _query_iterator(\n",
      "\u001b[0;32m/opt/conda/lib/python3.7/site-packages/pandas/io/sql.py\u001b[0m in \u001b[0;36m_execute_insert\u001b[0;34m(self, conn, keys, data_iter)\u001b[0m\n\u001b[1;32m    668\u001b[0m         \"\"\"\n\u001b[1;32m    669\u001b[0m         \u001b[0mdata\u001b[0m \u001b[0;34m=\u001b[0m \u001b[0;34m[\u001b[0m\u001b[0mdict\u001b[0m\u001b[0;34m(\u001b[0m\u001b[0mzip\u001b[0m\u001b[0;34m(\u001b[0m\u001b[0mkeys\u001b[0m\u001b[0;34m,\u001b[0m \u001b[0mrow\u001b[0m\u001b[0;34m)\u001b[0m\u001b[0;34m)\u001b[0m \u001b[0;32mfor\u001b[0m \u001b[0mrow\u001b[0m \u001b[0;32min\u001b[0m \u001b[0mdata_iter\u001b[0m\u001b[0;34m]\u001b[0m\u001b[0;34m\u001b[0m\u001b[0;34m\u001b[0m\u001b[0m\n\u001b[0;32m--> 670\u001b[0;31m         \u001b[0mconn\u001b[0m\u001b[0;34m.\u001b[0m\u001b[0mexecute\u001b[0m\u001b[0;34m(\u001b[0m\u001b[0mself\u001b[0m\u001b[0;34m.\u001b[0m\u001b[0mtable\u001b[0m\u001b[0;34m.\u001b[0m\u001b[0minsert\u001b[0m\u001b[0;34m(\u001b[0m\u001b[0;34m)\u001b[0m\u001b[0;34m,\u001b[0m \u001b[0mdata\u001b[0m\u001b[0;34m)\u001b[0m\u001b[0;34m\u001b[0m\u001b[0;34m\u001b[0m\u001b[0m\n\u001b[0m\u001b[1;32m    671\u001b[0m \u001b[0;34m\u001b[0m\u001b[0m\n\u001b[1;32m    672\u001b[0m     \u001b[0;32mdef\u001b[0m \u001b[0m_execute_insert_multi\u001b[0m\u001b[0;34m(\u001b[0m\u001b[0mself\u001b[0m\u001b[0;34m,\u001b[0m \u001b[0mconn\u001b[0m\u001b[0;34m,\u001b[0m \u001b[0mkeys\u001b[0m\u001b[0;34m,\u001b[0m \u001b[0mdata_iter\u001b[0m\u001b[0;34m)\u001b[0m\u001b[0;34m:\u001b[0m\u001b[0;34m\u001b[0m\u001b[0;34m\u001b[0m\u001b[0m\n",
      "\u001b[0;32m/opt/conda/lib/python3.7/site-packages/sqlalchemy/engine/base.py\u001b[0m in \u001b[0;36mexecute\u001b[0;34m(self, object_, *multiparams, **params)\u001b[0m\n\u001b[1;32m    986\u001b[0m             \u001b[0;32mraise\u001b[0m \u001b[0mexc\u001b[0m\u001b[0;34m.\u001b[0m\u001b[0mObjectNotExecutableError\u001b[0m\u001b[0;34m(\u001b[0m\u001b[0mobject_\u001b[0m\u001b[0;34m)\u001b[0m\u001b[0;34m\u001b[0m\u001b[0;34m\u001b[0m\u001b[0m\n\u001b[1;32m    987\u001b[0m         \u001b[0;32melse\u001b[0m\u001b[0;34m:\u001b[0m\u001b[0;34m\u001b[0m\u001b[0;34m\u001b[0m\u001b[0m\n\u001b[0;32m--> 988\u001b[0;31m             \u001b[0;32mreturn\u001b[0m \u001b[0mmeth\u001b[0m\u001b[0;34m(\u001b[0m\u001b[0mself\u001b[0m\u001b[0;34m,\u001b[0m \u001b[0mmultiparams\u001b[0m\u001b[0;34m,\u001b[0m \u001b[0mparams\u001b[0m\u001b[0;34m)\u001b[0m\u001b[0;34m\u001b[0m\u001b[0;34m\u001b[0m\u001b[0m\n\u001b[0m\u001b[1;32m    989\u001b[0m \u001b[0;34m\u001b[0m\u001b[0m\n\u001b[1;32m    990\u001b[0m     \u001b[0;32mdef\u001b[0m \u001b[0m_execute_function\u001b[0m\u001b[0;34m(\u001b[0m\u001b[0mself\u001b[0m\u001b[0;34m,\u001b[0m \u001b[0mfunc\u001b[0m\u001b[0;34m,\u001b[0m \u001b[0mmultiparams\u001b[0m\u001b[0;34m,\u001b[0m \u001b[0mparams\u001b[0m\u001b[0;34m)\u001b[0m\u001b[0;34m:\u001b[0m\u001b[0;34m\u001b[0m\u001b[0;34m\u001b[0m\u001b[0m\n",
      "\u001b[0;32m/opt/conda/lib/python3.7/site-packages/sqlalchemy/sql/elements.py\u001b[0m in \u001b[0;36m_execute_on_connection\u001b[0;34m(self, connection, multiparams, params)\u001b[0m\n\u001b[1;32m    285\u001b[0m     \u001b[0;32mdef\u001b[0m \u001b[0m_execute_on_connection\u001b[0m\u001b[0;34m(\u001b[0m\u001b[0mself\u001b[0m\u001b[0;34m,\u001b[0m \u001b[0mconnection\u001b[0m\u001b[0;34m,\u001b[0m \u001b[0mmultiparams\u001b[0m\u001b[0;34m,\u001b[0m \u001b[0mparams\u001b[0m\u001b[0;34m)\u001b[0m\u001b[0;34m:\u001b[0m\u001b[0;34m\u001b[0m\u001b[0;34m\u001b[0m\u001b[0m\n\u001b[1;32m    286\u001b[0m         \u001b[0;32mif\u001b[0m \u001b[0mself\u001b[0m\u001b[0;34m.\u001b[0m\u001b[0msupports_execution\u001b[0m\u001b[0;34m:\u001b[0m\u001b[0;34m\u001b[0m\u001b[0;34m\u001b[0m\u001b[0m\n\u001b[0;32m--> 287\u001b[0;31m             \u001b[0;32mreturn\u001b[0m \u001b[0mconnection\u001b[0m\u001b[0;34m.\u001b[0m\u001b[0m_execute_clauseelement\u001b[0m\u001b[0;34m(\u001b[0m\u001b[0mself\u001b[0m\u001b[0;34m,\u001b[0m \u001b[0mmultiparams\u001b[0m\u001b[0;34m,\u001b[0m \u001b[0mparams\u001b[0m\u001b[0;34m)\u001b[0m\u001b[0;34m\u001b[0m\u001b[0;34m\u001b[0m\u001b[0m\n\u001b[0m\u001b[1;32m    288\u001b[0m         \u001b[0;32melse\u001b[0m\u001b[0;34m:\u001b[0m\u001b[0;34m\u001b[0m\u001b[0;34m\u001b[0m\u001b[0m\n\u001b[1;32m    289\u001b[0m             \u001b[0;32mraise\u001b[0m \u001b[0mexc\u001b[0m\u001b[0;34m.\u001b[0m\u001b[0mObjectNotExecutableError\u001b[0m\u001b[0;34m(\u001b[0m\u001b[0mself\u001b[0m\u001b[0;34m)\u001b[0m\u001b[0;34m\u001b[0m\u001b[0;34m\u001b[0m\u001b[0m\n",
      "\u001b[0;32m/opt/conda/lib/python3.7/site-packages/sqlalchemy/engine/base.py\u001b[0m in \u001b[0;36m_execute_clauseelement\u001b[0;34m(self, elem, multiparams, params)\u001b[0m\n\u001b[1;32m   1105\u001b[0m             \u001b[0mdistilled_params\u001b[0m\u001b[0;34m,\u001b[0m\u001b[0;34m\u001b[0m\u001b[0;34m\u001b[0m\u001b[0m\n\u001b[1;32m   1106\u001b[0m             \u001b[0mcompiled_sql\u001b[0m\u001b[0;34m,\u001b[0m\u001b[0;34m\u001b[0m\u001b[0;34m\u001b[0m\u001b[0m\n\u001b[0;32m-> 1107\u001b[0;31m             \u001b[0mdistilled_params\u001b[0m\u001b[0;34m,\u001b[0m\u001b[0;34m\u001b[0m\u001b[0;34m\u001b[0m\u001b[0m\n\u001b[0m\u001b[1;32m   1108\u001b[0m         )\n\u001b[1;32m   1109\u001b[0m         \u001b[0;32mif\u001b[0m \u001b[0mself\u001b[0m\u001b[0;34m.\u001b[0m\u001b[0m_has_events\u001b[0m \u001b[0;32mor\u001b[0m \u001b[0mself\u001b[0m\u001b[0;34m.\u001b[0m\u001b[0mengine\u001b[0m\u001b[0;34m.\u001b[0m\u001b[0m_has_events\u001b[0m\u001b[0;34m:\u001b[0m\u001b[0;34m\u001b[0m\u001b[0;34m\u001b[0m\u001b[0m\n",
      "\u001b[0;32m/opt/conda/lib/python3.7/site-packages/sqlalchemy/engine/base.py\u001b[0m in \u001b[0;36m_execute_context\u001b[0;34m(self, dialect, constructor, statement, parameters, *args)\u001b[0m\n\u001b[1;32m   1246\u001b[0m         \u001b[0;32mexcept\u001b[0m \u001b[0mBaseException\u001b[0m \u001b[0;32mas\u001b[0m \u001b[0me\u001b[0m\u001b[0;34m:\u001b[0m\u001b[0;34m\u001b[0m\u001b[0;34m\u001b[0m\u001b[0m\n\u001b[1;32m   1247\u001b[0m             self._handle_dbapi_exception(\n\u001b[0;32m-> 1248\u001b[0;31m                 \u001b[0me\u001b[0m\u001b[0;34m,\u001b[0m \u001b[0mstatement\u001b[0m\u001b[0;34m,\u001b[0m \u001b[0mparameters\u001b[0m\u001b[0;34m,\u001b[0m \u001b[0mcursor\u001b[0m\u001b[0;34m,\u001b[0m \u001b[0mcontext\u001b[0m\u001b[0;34m\u001b[0m\u001b[0;34m\u001b[0m\u001b[0m\n\u001b[0m\u001b[1;32m   1249\u001b[0m             )\n\u001b[1;32m   1250\u001b[0m \u001b[0;34m\u001b[0m\u001b[0m\n",
      "\u001b[0;32m/opt/conda/lib/python3.7/site-packages/sqlalchemy/engine/base.py\u001b[0m in \u001b[0;36m_handle_dbapi_exception\u001b[0;34m(self, e, statement, parameters, cursor, context)\u001b[0m\n\u001b[1;32m   1464\u001b[0m                 \u001b[0mutil\u001b[0m\u001b[0;34m.\u001b[0m\u001b[0mraise_from_cause\u001b[0m\u001b[0;34m(\u001b[0m\u001b[0mnewraise\u001b[0m\u001b[0;34m,\u001b[0m \u001b[0mexc_info\u001b[0m\u001b[0;34m)\u001b[0m\u001b[0;34m\u001b[0m\u001b[0;34m\u001b[0m\u001b[0m\n\u001b[1;32m   1465\u001b[0m             \u001b[0;32melif\u001b[0m \u001b[0mshould_wrap\u001b[0m\u001b[0;34m:\u001b[0m\u001b[0;34m\u001b[0m\u001b[0;34m\u001b[0m\u001b[0m\n\u001b[0;32m-> 1466\u001b[0;31m                 \u001b[0mutil\u001b[0m\u001b[0;34m.\u001b[0m\u001b[0mraise_from_cause\u001b[0m\u001b[0;34m(\u001b[0m\u001b[0msqlalchemy_exception\u001b[0m\u001b[0;34m,\u001b[0m \u001b[0mexc_info\u001b[0m\u001b[0;34m)\u001b[0m\u001b[0;34m\u001b[0m\u001b[0;34m\u001b[0m\u001b[0m\n\u001b[0m\u001b[1;32m   1467\u001b[0m             \u001b[0;32melse\u001b[0m\u001b[0;34m:\u001b[0m\u001b[0;34m\u001b[0m\u001b[0;34m\u001b[0m\u001b[0m\n\u001b[1;32m   1468\u001b[0m                 \u001b[0mutil\u001b[0m\u001b[0;34m.\u001b[0m\u001b[0mreraise\u001b[0m\u001b[0;34m(\u001b[0m\u001b[0;34m*\u001b[0m\u001b[0mexc_info\u001b[0m\u001b[0;34m)\u001b[0m\u001b[0;34m\u001b[0m\u001b[0;34m\u001b[0m\u001b[0m\n",
      "\u001b[0;32m/opt/conda/lib/python3.7/site-packages/sqlalchemy/util/compat.py\u001b[0m in \u001b[0;36mraise_from_cause\u001b[0;34m(exception, exc_info)\u001b[0m\n\u001b[1;32m    396\u001b[0m     \u001b[0mexc_type\u001b[0m\u001b[0;34m,\u001b[0m \u001b[0mexc_value\u001b[0m\u001b[0;34m,\u001b[0m \u001b[0mexc_tb\u001b[0m \u001b[0;34m=\u001b[0m \u001b[0mexc_info\u001b[0m\u001b[0;34m\u001b[0m\u001b[0;34m\u001b[0m\u001b[0m\n\u001b[1;32m    397\u001b[0m     \u001b[0mcause\u001b[0m \u001b[0;34m=\u001b[0m \u001b[0mexc_value\u001b[0m \u001b[0;32mif\u001b[0m \u001b[0mexc_value\u001b[0m \u001b[0;32mis\u001b[0m \u001b[0;32mnot\u001b[0m \u001b[0mexception\u001b[0m \u001b[0;32melse\u001b[0m \u001b[0;32mNone\u001b[0m\u001b[0;34m\u001b[0m\u001b[0;34m\u001b[0m\u001b[0m\n\u001b[0;32m--> 398\u001b[0;31m     \u001b[0mreraise\u001b[0m\u001b[0;34m(\u001b[0m\u001b[0mtype\u001b[0m\u001b[0;34m(\u001b[0m\u001b[0mexception\u001b[0m\u001b[0;34m)\u001b[0m\u001b[0;34m,\u001b[0m \u001b[0mexception\u001b[0m\u001b[0;34m,\u001b[0m \u001b[0mtb\u001b[0m\u001b[0;34m=\u001b[0m\u001b[0mexc_tb\u001b[0m\u001b[0;34m,\u001b[0m \u001b[0mcause\u001b[0m\u001b[0;34m=\u001b[0m\u001b[0mcause\u001b[0m\u001b[0;34m)\u001b[0m\u001b[0;34m\u001b[0m\u001b[0;34m\u001b[0m\u001b[0m\n\u001b[0m\u001b[1;32m    399\u001b[0m \u001b[0;34m\u001b[0m\u001b[0m\n\u001b[1;32m    400\u001b[0m \u001b[0;34m\u001b[0m\u001b[0m\n",
      "\u001b[0;32m/opt/conda/lib/python3.7/site-packages/sqlalchemy/util/compat.py\u001b[0m in \u001b[0;36mreraise\u001b[0;34m(tp, value, tb, cause)\u001b[0m\n\u001b[1;32m    150\u001b[0m             \u001b[0mvalue\u001b[0m\u001b[0;34m.\u001b[0m\u001b[0m__cause__\u001b[0m \u001b[0;34m=\u001b[0m \u001b[0mcause\u001b[0m\u001b[0;34m\u001b[0m\u001b[0;34m\u001b[0m\u001b[0m\n\u001b[1;32m    151\u001b[0m         \u001b[0;32mif\u001b[0m \u001b[0mvalue\u001b[0m\u001b[0;34m.\u001b[0m\u001b[0m__traceback__\u001b[0m \u001b[0;32mis\u001b[0m \u001b[0;32mnot\u001b[0m \u001b[0mtb\u001b[0m\u001b[0;34m:\u001b[0m\u001b[0;34m\u001b[0m\u001b[0;34m\u001b[0m\u001b[0m\n\u001b[0;32m--> 152\u001b[0;31m             \u001b[0;32mraise\u001b[0m \u001b[0mvalue\u001b[0m\u001b[0;34m.\u001b[0m\u001b[0mwith_traceback\u001b[0m\u001b[0;34m(\u001b[0m\u001b[0mtb\u001b[0m\u001b[0;34m)\u001b[0m\u001b[0;34m\u001b[0m\u001b[0;34m\u001b[0m\u001b[0m\n\u001b[0m\u001b[1;32m    153\u001b[0m         \u001b[0;32mraise\u001b[0m \u001b[0mvalue\u001b[0m\u001b[0;34m\u001b[0m\u001b[0;34m\u001b[0m\u001b[0m\n\u001b[1;32m    154\u001b[0m \u001b[0;34m\u001b[0m\u001b[0m\n",
      "\u001b[0;32m/opt/conda/lib/python3.7/site-packages/sqlalchemy/engine/base.py\u001b[0m in \u001b[0;36m_execute_context\u001b[0;34m(self, dialect, constructor, statement, parameters, *args)\u001b[0m\n\u001b[1;32m   1222\u001b[0m                 \u001b[0;32mif\u001b[0m \u001b[0;32mnot\u001b[0m \u001b[0mevt_handled\u001b[0m\u001b[0;34m:\u001b[0m\u001b[0;34m\u001b[0m\u001b[0;34m\u001b[0m\u001b[0m\n\u001b[1;32m   1223\u001b[0m                     self.dialect.do_executemany(\n\u001b[0;32m-> 1224\u001b[0;31m                         \u001b[0mcursor\u001b[0m\u001b[0;34m,\u001b[0m \u001b[0mstatement\u001b[0m\u001b[0;34m,\u001b[0m \u001b[0mparameters\u001b[0m\u001b[0;34m,\u001b[0m \u001b[0mcontext\u001b[0m\u001b[0;34m\u001b[0m\u001b[0;34m\u001b[0m\u001b[0m\n\u001b[0m\u001b[1;32m   1225\u001b[0m                     )\n\u001b[1;32m   1226\u001b[0m             \u001b[0;32melif\u001b[0m \u001b[0;32mnot\u001b[0m \u001b[0mparameters\u001b[0m \u001b[0;32mand\u001b[0m \u001b[0mcontext\u001b[0m\u001b[0;34m.\u001b[0m\u001b[0mno_parameters\u001b[0m\u001b[0;34m:\u001b[0m\u001b[0;34m\u001b[0m\u001b[0;34m\u001b[0m\u001b[0m\n",
      "\u001b[0;32m/opt/conda/lib/python3.7/site-packages/sqlalchemy/dialects/postgresql/psycopg2.py\u001b[0m in \u001b[0;36mdo_executemany\u001b[0;34m(self, cursor, statement, parameters, context)\u001b[0m\n\u001b[1;32m    771\u001b[0m             \u001b[0mextras\u001b[0m\u001b[0;34m.\u001b[0m\u001b[0mexecute_batch\u001b[0m\u001b[0;34m(\u001b[0m\u001b[0mcursor\u001b[0m\u001b[0;34m,\u001b[0m \u001b[0mstatement\u001b[0m\u001b[0;34m,\u001b[0m \u001b[0mparameters\u001b[0m\u001b[0;34m)\u001b[0m\u001b[0;34m\u001b[0m\u001b[0;34m\u001b[0m\u001b[0m\n\u001b[1;32m    772\u001b[0m         \u001b[0;32melse\u001b[0m\u001b[0;34m:\u001b[0m\u001b[0;34m\u001b[0m\u001b[0;34m\u001b[0m\u001b[0m\n\u001b[0;32m--> 773\u001b[0;31m             \u001b[0mcursor\u001b[0m\u001b[0;34m.\u001b[0m\u001b[0mexecutemany\u001b[0m\u001b[0;34m(\u001b[0m\u001b[0mstatement\u001b[0m\u001b[0;34m,\u001b[0m \u001b[0mparameters\u001b[0m\u001b[0;34m)\u001b[0m\u001b[0;34m\u001b[0m\u001b[0;34m\u001b[0m\u001b[0m\n\u001b[0m\u001b[1;32m    774\u001b[0m \u001b[0;34m\u001b[0m\u001b[0m\n\u001b[1;32m    775\u001b[0m     \u001b[0;34m@\u001b[0m\u001b[0mutil\u001b[0m\u001b[0;34m.\u001b[0m\u001b[0mmemoized_instancemethod\u001b[0m\u001b[0;34m\u001b[0m\u001b[0;34m\u001b[0m\u001b[0m\n",
      "\u001b[0;31mDataError\u001b[0m: (psycopg2.errors.StringDataRightTruncation) value too long for type character varying(100)\n\n[SQL: INSERT INTO rc25g.products (product_id, product_name, aisle_id, department_id) VALUES (%(product_id)s, %(product_name)s, %(aisle_id)s, %(department_id)s)]\n[parameters: ({'product_id': 2551, 'product_name': 'Butterscotch Pudding Snacks', 'aisle_id': 71, 'department_id': 16}, {'product_id': 2552, 'product_name': 'Organic Raw Pomegranate Kombucha', 'aisle_id': 94, 'department_id': 7}, {'product_id': 2553, 'product_name': 'Rosemary Flatbread Kamut', 'aisle_id': 78, 'department_id': 19}, {'product_id': 2554, 'product_name': 'Snacking Lupini Beans Hot Pepper', 'aisle_id': 100, 'department_id': 21}, {'product_id': 2555, 'product_name': 'Bread Bohemian Style Rye Unseeded', 'aisle_id': 112, 'department_id': 3}, {'product_id': 2556, 'product_name': 'Yellow Mustard', 'aisle_id': 72, 'department_id': 13}, {'product_id': 2557, 'product_name': 'Touch Of Phlly Shredded Sharp Cheddar Cheese', 'aisle_id': 100, 'department_id': 21}, {'product_id': 2558, 'product_name': 'Organic & Fair Trade Green Tea with Jasmine Bags', 'aisle_id': 94, 'department_id': 7}  ... displaying 10 of 50 total bound parameter sets ...  {'product_id': 2599, 'product_name': 'Organic Garden Vegetables with Herbs Soup', 'aisle_id': 69, 'department_id': 15}, {'product_id': 2600, 'product_name': 'Sugarfree Mint Flavor Gum', 'aisle_id': 46, 'department_id': 19})]\n(Background on this error at: http://sqlalche.me/e/9h9h)"
     ]
    }
   ],
   "source": [
    "products.to_sql('products',\n",
    "          engine,\n",
    "          schema= username,\n",
    "          if_exists='append',\n",
    "          index=False,\n",
    "          chunksize=50)"
   ]
  },
  {
   "cell_type": "markdown",
   "metadata": {},
   "source": [
    "### 2.3 - Aisles"
   ]
  },
  {
   "cell_type": "code",
   "execution_count": 71,
   "metadata": {},
   "outputs": [],
   "source": [
    "aisles = pd.read_csv('/dsa/data/all_datasets/instacart/aisles.csv')\n"
   ]
  },
  {
   "cell_type": "code",
   "execution_count": 72,
   "metadata": {
    "scrolled": true
   },
   "outputs": [
    {
     "name": "stdout",
     "output_type": "stream",
     "text": [
      "2020-12-06 14:24:16,034 INFO sqlalchemy.engine.base.Engine select relname from pg_class c join pg_namespace n on n.oid=c.relnamespace where n.nspname=%(schema)s and relname=%(name)s\n",
      "2020-12-06 14:24:16,035 INFO sqlalchemy.engine.base.Engine {'schema': 'rc25g', 'name': 'aisles'}\n",
      "2020-12-06 14:24:16,039 INFO sqlalchemy.engine.base.Engine BEGIN (implicit)\n",
      "2020-12-06 14:24:16,040 INFO sqlalchemy.engine.base.Engine INSERT INTO rc25g.aisles (aisle_id, aisle) VALUES (%(aisle_id)s, %(aisle)s)\n",
      "2020-12-06 14:24:16,041 INFO sqlalchemy.engine.base.Engine ({'aisle_id': 1, 'aisle': 'prepared soups salads'}, {'aisle_id': 2, 'aisle': 'specialty cheeses'}, {'aisle_id': 3, 'aisle': 'energy granola bars'}, {'aisle_id': 4, 'aisle': 'instant foods'}, {'aisle_id': 5, 'aisle': 'marinades meat preparation'}, {'aisle_id': 6, 'aisle': 'other'}, {'aisle_id': 7, 'aisle': 'packaged meat'}, {'aisle_id': 8, 'aisle': 'bakery desserts'}  ... displaying 10 of 50 total bound parameter sets ...  {'aisle_id': 49, 'aisle': 'packaged poultry'}, {'aisle_id': 50, 'aisle': 'fruit vegetable snacks'})\n",
      "2020-12-06 14:24:16,056 INFO sqlalchemy.engine.base.Engine INSERT INTO rc25g.aisles (aisle_id, aisle) VALUES (%(aisle_id)s, %(aisle)s)\n",
      "2020-12-06 14:24:16,056 INFO sqlalchemy.engine.base.Engine ({'aisle_id': 51, 'aisle': 'preserved dips spreads'}, {'aisle_id': 52, 'aisle': 'frozen breakfast'}, {'aisle_id': 53, 'aisle': 'cream'}, {'aisle_id': 54, 'aisle': 'paper goods'}, {'aisle_id': 55, 'aisle': 'shave needs'}, {'aisle_id': 56, 'aisle': 'diapers wipes'}, {'aisle_id': 57, 'aisle': 'granola'}, {'aisle_id': 58, 'aisle': 'frozen breads doughs'}  ... displaying 10 of 50 total bound parameter sets ...  {'aisle_id': 99, 'aisle': 'canned fruit applesauce'}, {'aisle_id': 100, 'aisle': 'missing'})\n",
      "2020-12-06 14:24:16,065 INFO sqlalchemy.engine.base.Engine INSERT INTO rc25g.aisles (aisle_id, aisle) VALUES (%(aisle_id)s, %(aisle)s)\n",
      "2020-12-06 14:24:16,066 INFO sqlalchemy.engine.base.Engine ({'aisle_id': 101, 'aisle': 'air fresheners candles'}, {'aisle_id': 102, 'aisle': 'baby bath body care'}, {'aisle_id': 103, 'aisle': 'ice cream toppings'}, {'aisle_id': 104, 'aisle': 'spices seasonings'}, {'aisle_id': 105, 'aisle': 'doughs gelatins bake mixes'}, {'aisle_id': 106, 'aisle': 'hot dogs bacon sausage'}, {'aisle_id': 107, 'aisle': 'chips pretzels'}, {'aisle_id': 108, 'aisle': 'other creams cheeses'}  ... displaying 10 of 34 total bound parameter sets ...  {'aisle_id': 133, 'aisle': 'muscles joints pain relief'}, {'aisle_id': 134, 'aisle': 'specialty wines champagnes'})\n",
      "2020-12-06 14:24:16,072 INFO sqlalchemy.engine.base.Engine COMMIT\n"
     ]
    }
   ],
   "source": [
    "aisles.to_sql('aisles',\n",
    "          engine,\n",
    "          schema= username,\n",
    "          if_exists='append',\n",
    "          index=False,\n",
    "          chunksize=50)"
   ]
  },
  {
   "cell_type": "markdown",
   "metadata": {},
   "source": [
    "### 2.4 - Departments"
   ]
  },
  {
   "cell_type": "code",
   "execution_count": 60,
   "metadata": {},
   "outputs": [],
   "source": [
    "departments = pd.read_csv('/dsa/data/all_datasets/instacart/departments.csv')\n"
   ]
  },
  {
   "cell_type": "code",
   "execution_count": 66,
   "metadata": {},
   "outputs": [
    {
     "name": "stdout",
     "output_type": "stream",
     "text": [
      "2020-12-06 14:20:29,543 INFO sqlalchemy.engine.base.Engine select relname from pg_class c join pg_namespace n on n.oid=c.relnamespace where n.nspname=%(schema)s and relname=%(name)s\n",
      "2020-12-06 14:20:29,544 INFO sqlalchemy.engine.base.Engine {'schema': 'rc25g', 'name': 'departments'}\n",
      "2020-12-06 14:20:29,548 INFO sqlalchemy.engine.base.Engine BEGIN (implicit)\n",
      "2020-12-06 14:20:29,549 INFO sqlalchemy.engine.base.Engine INSERT INTO rc25g.departments (department_id, department) VALUES (%(department_id)s, %(department)s)\n",
      "2020-12-06 14:20:29,549 INFO sqlalchemy.engine.base.Engine ({'department_id': 1, 'department': 'frozen'}, {'department_id': 2, 'department': 'other'}, {'department_id': 3, 'department': 'bakery'}, {'department_id': 4, 'department': 'produce'}, {'department_id': 5, 'department': 'alcohol'}, {'department_id': 6, 'department': 'international'}, {'department_id': 7, 'department': 'beverages'}, {'department_id': 8, 'department': 'pets'}  ... displaying 10 of 21 total bound parameter sets ...  {'department_id': 20, 'department': 'deli'}, {'department_id': 21, 'department': 'missing'})\n",
      "2020-12-06 14:20:29,562 INFO sqlalchemy.engine.base.Engine COMMIT\n"
     ]
    }
   ],
   "source": [
    "departments.to_sql('departments',\n",
    "          engine,\n",
    "          schema= username,\n",
    "          if_exists='append',\n",
    "          index=False,\n",
    "          chunksize=50)"
   ]
  },
  {
   "cell_type": "markdown",
   "metadata": {},
   "source": [
    "### 2.5 - Order Products"
   ]
  },
  {
   "cell_type": "code",
   "execution_count": 15,
   "metadata": {},
   "outputs": [],
   "source": [
    "order_products = pd.read_csv('/dsa/data/all_datasets/instacart/order_products.csv')\n"
   ]
  },
  {
   "cell_type": "code",
   "execution_count": null,
   "metadata": {},
   "outputs": [],
   "source": [
    "order_products.to_sql('order_products',\n",
    "          engine,\n",
    "          schema= username,\n",
    "          if_exists='append'\n",
    "          index=False,\n",
    "          chunksize=50)"
   ]
  },
  {
   "cell_type": "markdown",
   "metadata": {},
   "source": [
    "# Save your notebook, then `File > Close and Halt`"
   ]
  },
  {
   "cell_type": "markdown",
   "metadata": {},
   "source": [
    "---"
   ]
  }
 ],
 "metadata": {
  "kernelspec": {
   "display_name": "Python 3",
   "language": "python",
   "name": "python3"
  },
  "language_info": {
   "codemirror_mode": {
    "name": "ipython",
    "version": 3
   },
   "file_extension": ".py",
   "mimetype": "text/x-python",
   "name": "python",
   "nbconvert_exporter": "python",
   "pygments_lexer": "ipython3",
   "version": "3.7.3"
  }
 },
 "nbformat": 4,
 "nbformat_minor": 2
}
