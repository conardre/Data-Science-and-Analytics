{
 "cells": [
  {
   "cell_type": "markdown",
   "metadata": {},
   "source": [
    "# Normalization of a database"
   ]
  },
  {
   "cell_type": "markdown",
   "metadata": {},
   "source": [
    "Consider the following order form. If the image is not visible, then find the `order-slip.jpg` in the exercise folder. \n",
    "\n",
    "We can define the following table to capture the information in this form. \n",
    "\n",
    "**Order_Form(order_num, customer_num, customer_name, customer_address, city_country, date, (product_num, desc, quant, price))**\n",
    "\n",
    "The above table is in 0-NF (without any normalization). Note that here the subset of attributes inside the inner parentheses represents repetition of these attributes with respect to the attributes defined outside this inner parentheses."
   ]
  },
  {
   "cell_type": "markdown",
   "metadata": {},
   "source": [
    "![image](./order-slip.jpg)"
   ]
  },
  {
   "cell_type": "markdown",
   "metadata": {},
   "source": [
    "### Note\n",
    "\n",
    "* While breaking the above table, give appropriate names to the relations. \n",
    "* You don't need to show tables with data. Just specify the table with the attributes.\n",
    "    * Using pen and paper, you can create a dummy table to better undertand the problem\n",
    "* Justy why the tables are in 1-NF\n",
    "* You might have to solve each of the question in multi-steps. One decomposition may not fully convert each of the relations to a form.   \n",
    "    * You can either show each of these intermediate steps or simply give the final decomposition\n",
    "* Add additional cells if required. Use markdown or raw nbcovert as cell type. \n",
    "\n",
    "\n",
    "\n",
    "### 1. Is the above relation in 1-NF? If not, decompose the above relation into relations that follow 1-NF.\n",
    "\n"
   ]
  },
  {
   "cell_type": "raw",
   "metadata": {},
   "source": [
    "The above relation is in 1-NF as there no multi-value attributes. I believe there is a composite key {Name, Address}\n",
    "\n",
    "{Name, ProductNo, Description} ==> {Quantity, Unit Price}\n",
    "{Name} ==>"
   ]
  },
  {
   "cell_type": "markdown",
   "metadata": {},
   "source": [
    "### 2. Do the above relations in 1-NF are also in 2-NF? If not, specify the reasons? If required, decompose the relations into 2-NF.\n",
    "\n"
   ]
  },
  {
   "cell_type": "raw",
   "metadata": {},
   "source": [
    "No it is currently no in 2-NF, but could be in 2-NF if it was separated into two different tables.\n",
    "\n",
    "You can partition the above table to make it 2NF with Order number and Customer Number as the primary key for table one which would link the customer information with the order information as the foreign key in that table.\n"
   ]
  },
  {
   "cell_type": "markdown",
   "metadata": {},
   "source": [
    "### 3. Do the above relations in 2-NF are also in 3-NF? If not, specify the reasons? If required, decompose the relations into 3-NF."
   ]
  },
  {
   "cell_type": "raw",
   "metadata": {},
   "source": [
    "I don't think the table could be further broken down past 2-NF to reach 3-NF. "
   ]
  }
 ],
 "metadata": {
  "kernelspec": {
   "display_name": "Python 3",
   "language": "python",
   "name": "python3"
  },
  "language_info": {
   "codemirror_mode": {
    "name": "ipython",
    "version": 3
   },
   "file_extension": ".py",
   "mimetype": "text/x-python",
   "name": "python",
   "nbconvert_exporter": "python",
   "pygments_lexer": "ipython3",
   "version": "3.7.3"
  }
 },
 "nbformat": 4,
 "nbformat_minor": 2
}
